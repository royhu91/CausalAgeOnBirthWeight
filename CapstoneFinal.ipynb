{
 "cells": [
  {
   "cell_type": "markdown",
   "metadata": {},
   "source": [
    "# <center> <span style=\"color:blue\"> Machine Learning Nanodegree Capstone Project by Roy Hu </span> </center>\n"
   ]
  },
  {
   "cell_type": "markdown",
   "metadata": {},
   "source": [
    "# Causal Inference and Machine Learning: Pregnancy Order and Birth Weights\n"
   ]
  },
  {
   "cell_type": "markdown",
   "metadata": {},
   "source": [
    "### <span style=\"color:gray\"> Project Overview </span>"
   ]
  },
  {
   "cell_type": "markdown",
   "metadata": {},
   "source": [
    "Machine learning methods and algorithms are revolutionizing analytics across a variety of industries: from education to healthcare to finance. Yet despite their rising popularity, I believe there is a tremendous amount of interesting and important work still yet to be done. In particular to my interests, in general ML prediction models are built on a premise that is fundamentally at odds with a lot of social science work on causal inference: a foundation of supervised ML is optimizing on an outcome and selecting a model based on the goodness of fit on a test sample. However, in econometrics, prediction is not the same thing as causal inference. For instance, in empirical economics we often see confounding situations in which higher home prices are strongly <i>positively</i> associated with higher crime rates, but mainly because cities generally have both higher real estate prices and higher crime rates. Yet obviously, all else equal, we should expect higher home prices to be <i>negatively</i> correlated with higher crime rates. Or in observational medical studies evaluating the treatment effects of drug A versus drug B, it may not be appropriate to optimize on the simple outcome because there may be good medical reasons why only certain patients receive one drug and not the other. \n",
    "\n",
    "Thus, a perfectly valid goal when doing empirical work in economics is to estimate the most fundamental effect of some variable on an outcome, e.g., find the causal effect of crime on price (presumably negative), as opposed to estimating simple  correlations (usually positive) between the two--since, as everyone knows, correlation does not imply causation.\n",
    "\n",
    "But just because textbook ML prediction methods are not immediately available for causal inference does not mean that they are not useful. <b> The goal of my capstone project will be to adapt these ML methods and algorithms for causal inference. In particular, I attempt to use ML methods to estimate the causal effect of age on the birth weight of the infant--a key indicator of infant health. </b> Although one would likely imagine that increasing age has a negative effect on birth outcomes, at the same time it's possible that women who waited to have children are more established, come from better economic circumstances, and have access to better prenatal care; thus, it's possible age might be <i>positively</i> correlated with birth weights. However, my project will try to find the true causal effect of age on birth outcomes, all else equal. I use data from the CDC's National Survey for Family Growth, a particularly rich and publicly-available data set that gathers information on family life, marriage and divorce, pregnancy, infertility, use of contraception, and men's and women's health. It is my hope that combining the latest ML algorithms with econometrics can uncover new insights into the causal effect of later pregnancies on the birth weight outcomes for infants.\n"
   ]
  },
  {
   "cell_type": "markdown",
   "metadata": {},
   "source": [
    "### <span style=\"color:gray\"> Problem Statement </span>"
   ]
  },
  {
   "cell_type": "markdown",
   "metadata": {},
   "source": [
    "The classic framework for the causal inference problem is “potential outcomes” model developed by Neyman (1923) and extended by Rubin (1974) to non-experimental settings. Suppose we have a random\n",
    "sample <i>i</i> = 1, 2,..., <i>N</i> from some population. For each unit <i>i</i> in the sample, let <i>T</i> ∈ <i>{0,1}</i> indicate whether the unit received the treatment of interest (<i>T</i>= 1) or the control treatment (<i>T</i> = 0). We are interested on the effect of the treatment <i>T</i> on an outcome <i>Y</i>. Let <i>Y<sub>i</sub></i>(1) be the potential outcome for individual <i>i</i> under treatment, and <i>Y<sub>i</sub></i>(0) the potential outcome for the same individual if he or she had not undergone the treatment.\n",
    "\n",
    "Of course, the difficulty here, sometimes called the \"Fundamental Problem of Causal Inference\" (Holland 1986), is that we can never actually observe <i>both</i> potential outcomes for the <i>same</i> individual at the <i>same</i> point in time; that is, we can only observe either <i>Y<sub>i</sub></i>(1) or <i>Y<sub>i</sub></i>(0), but not both. For example, if we wanted to estimate the effect of attending college on future earnings, we would only be able to observe the wages (\"the outcome\") if an individual had gone to college (\"the treatment\"), and not the counterfactual case of wages if he or she had not. Under idealized scientific experimental conditions, randomization of the treatment and control groups will take care of the problem. However, in social sciences doing such is usually either impossible or at least highly unethical: one cannot simply randomly assign someone to attend college or not. \n",
    "\n",
    "To address the Fundamental Problem, the experimental design literature has developed various methods for balancing the control and treatment groups to mimic an ideal experiment ex post, the most popular being the propensity score matching. Propensity score matching splits causal inference into a <b>two-stage</b> problem. The first is to estimate the propensity score as the conditional probability of receiving the treatment, e.g., the probability of going to college, given the set of covariates, or <i>p(x)</i> = Pr(<i>T</i>=1 |  <i>X</i>=<i>x</i>). Assuming unconfoundedness, or the assumption that there are no additional confounding variables which affect both the treatment and outcome, then the causal inference problem <i>Y<sub>i</sub></i>(<i>T</i>) = (<i>T</i> | <i>X</i>) can now be simply rewritten and estimated as <i>Y<sub>i</sub></i>(<i>T</i>) = (<i>T</i> | <i>p(x)</i>). That is, instead of conditioning upon a potentially huge vector of covariates, we only need to worry about a single scalar score that takes all that information into account. While there are always arguments for additional confounding variables, this assumption is more plausible if the covariates in the data set are considered to be “rich.” As we will see later, I believe the CDC's data set is extremely rich, and it is actually quite hard to come up with any additional confounding variables. Moreover, due to the data set's huge feature space, it becomes extremely useful to summarize the information as a single propensity score. \n",
    "\n",
    "Machine learning algorithms can be easily adapted to causal inference here, since the first stage of estimating the propensity score probability is essentially a classic supervised learning prediction problem. In classic causal inference, the treatment is a binary variable, and the propensity score is estimated using a logistic regression. [Subsequent research](https://www.ncbi.nlm.nih.gov/pmc/articles/PMC3710547/#FD4) has shown that, however, non-parametric, machine learning techniques like a generalized boosted model often outperform the basic logistic regression, and can capture non-linear relationships. In my project, I hope to [extend](http://scholar.harvard.edu/imbens/files/hir_07feb04.pdf) the research even further by estimating a Generalized Propensity Score (Hirano and Imbens 2004) using machine learning techniques, because my treatment variable, mother's age of birth, is a continuous variable. <b> My expectation at the end of the project is to find that increasing age should have a negative effect on the infant's birth weight.</b>\n",
    "\n"
   ]
  },
  {
   "cell_type": "markdown",
   "metadata": {},
   "source": [
    "### <span style=\"color:gray\"> Metrics </span>"
   ]
  },
  {
   "cell_type": "markdown",
   "metadata": {},
   "source": [
    "Because this is a regression problem, I choose mean squared errors because minimizing the quadratic loss makes sense because some errors are better than others: errors that are closer to the \"true\" parameter should not be penalized as much as errors that are further away. Moreover, in a non-Bayesian setting like the ones in traditional econometrics classes I've taken, MSE will asymptotically give us the minimum variance and unbiased estimators. And as as a minor note, unlike MAE, MSE is tractable and can produce closed-form solutions.\n"
   ]
  },
  {
   "cell_type": "markdown",
   "metadata": {},
   "source": [
    "### <span style=\"color:gray\"> Data Exploration </span>"
   ]
  },
  {
   "cell_type": "markdown",
   "metadata": {},
   "source": [
    "The data comes from the CDC's National Survey of Family Growth (NSFG) 2011-2013, which contains <b>two</b> data sets: one containing pregnancy, birth, and general demographic information for different mothers, and the other containing her detailed interview responses to the survey. \n",
    "\n",
    "The data has an enormous feature space. The Demographic data set has 9543 observations with 278 covariates, and the Survey Response has 3096 covariates. Both data sets suffer from having many features which have a severe missing data problem. If it were missing at random, then imputation techniques like KNN or median might make sense, but I strongly suspect this not to be the case. Below is a missing map of the Survey Response data before dropping the NA columns (the Demographics one looks similar). Because the main purpose of this project is to estimate causal effects from the demographic data set, I am comfortable with trying to extract some signal from the survey data set, and will use PCA for dimensionality reduction to create orthogonal features that can provide some additional background information for each mother in the demographic data set"
   ]
  },
  {
   "cell_type": "code",
   "execution_count": 1,
   "metadata": {
    "collapsed": false
   },
   "outputs": [
    {
     "data": {
      "image/png": "[encoded data removed]",
      "text/plain": [
       "<IPython.core.display.Image object>"
      ]
     },
     "metadata": {},
     "output_type": "display_data"
    }
   ],
   "source": [
    "PATH = \"/Users/royhu/Desktop/Cal Poly/Udacity/Screen Shot 2016-08-24 at 7.36.40 PM.png\"\n",
    "\n",
    "from IPython.display import Image, display; display(Image(filename=PATH))"
   ]
  },
  {
   "cell_type": "markdown",
   "metadata": {},
   "source": [
    "### <span style=\"color:gray\"> Pre-Processing </span>"
   ]
  },
  {
   "cell_type": "markdown",
   "metadata": {},
   "source": [
    "The following is a summary of the pre-processing:\n",
    "\n",
    "* <b>Demographic Data Set</b>\n",
    "     * I removed observations for which the pregnancy did not end in a successful C-section or vaginal delivery, i.e., excluded observations that ended in an abortion, miscarriage, stillbirth, or NA value. \n",
    "     * I removed columns which had nearly 0 variance because they are not informative. This dropped the feature space from 278 to 121 covariates.\n",
    "     * I removed columns which had nearly 0 variance because they are not informative. This dropped the feature space from 278 to 121 covariates.\n",
    "     * I removed columns which had more than 10% missing values. This dropped the feature space from 121 covariates to 88 covariates.\n",
    "     * Using the variable descriptions, I removed features that were redundant to avoid issues of multicollinearity; I also removed a few columns that were not relevant to my analysis. Examples of redundant variables are: addition metrics (e.g., different units) for age, birth weight, dates, education, pregnancy order. This was admittedly a judgement call, but I am fairly confident in my methodology in preserving enough covariates (40) that the data set could be still considered \"rich\" enough for the weakly unconfoundedness assumption to hold.\n",
    "   \n",
    "* <b>Survey Response Data Set</b>\n",
    "     * I removed columns which had nearly 0 variance because they are not informative. This dropped the feature space from 3096 covariates to 1065 covariates.\n",
    "     * I removed columns which had more than 10% missing values. This dropped the feature space from 1065 covariates to 388 covariates.\n",
    "     \n",
    "<b>The final PregDemographics data set has 3,135 observations with 40 covariates; the PregSurveyResponse has 3,135 observations with 388 covariates. </b>"
   ]
  },
  {
   "cell_type": "code",
   "execution_count": 2,
   "metadata": {
    "collapsed": true
   },
   "outputs": [],
   "source": [
    "# Import libraries\n",
    "import numpy as np\n",
    "import pandas as pd"
   ]
  },
  {
   "cell_type": "code",
   "execution_count": 3,
   "metadata": {
    "collapsed": false
   },
   "outputs": [
    {
     "name": "stdout",
     "output_type": "stream",
     "text": [
      "Read Data Successfully!\n"
     ]
    }
   ],
   "source": [
    "# Read student data\n",
    "pregDemo = pd.read_csv(\"/Users/royhu/Desktop/preg1.csv\")\n",
    "pregResponse = pd.read_csv(\"/Users/royhu/Desktop/pregresponse.csv\")\n",
    "pregResponse = pregResponse.drop('Unnamed: 0', 1)\n",
    "pregDemo = pregDemo.drop('Unnamed: 0', 1)\n",
    "\n",
    "print \"Read Data Successfully!\"\n",
    "# Note: The last column 'passed' is the target/label, all other are feature columns\n",
    "\n",
    "pd.options.display.max_columns = 50"
   ]
  },
  {
   "cell_type": "markdown",
   "metadata": {},
   "source": [
    "Below is a statistical description of the Demographics data set, which will be used for PCA:"
   ]
  },
  {
   "cell_type": "code",
   "execution_count": 4,
   "metadata": {
    "collapsed": false
   },
   "outputs": [
    {
     "data": {
      "text/html": [
       "<div>\n",
       "<table border=\"1\" class=\"dataframe\">\n",
       "  <thead>\n",
       "    <tr style=\"text-align: right;\">\n",
       "      <th></th>\n",
       "      <th>CASEID</th>\n",
       "      <th>PREGORDR</th>\n",
       "      <th>WKSGEST</th>\n",
       "      <th>BABYDOB_M</th>\n",
       "      <th>BABYDOB_Y</th>\n",
       "      <th>HPAGELB</th>\n",
       "      <th>CMFSTPRG</th>\n",
       "      <th>AGEPREG</th>\n",
       "      <th>BFEEDWKS</th>\n",
       "      <th>CMBIRTH</th>\n",
       "      <th>PREGNUM</th>\n",
       "      <th>PARITY</th>\n",
       "      <th>POVERTY</th>\n",
       "      <th>QUARTER</th>\n",
       "      <th>INTVWYEAR</th>\n",
       "      <th>BIRTHWGT</th>\n",
       "    </tr>\n",
       "  </thead>\n",
       "  <tbody>\n",
       "    <tr>\n",
       "      <th>count</th>\n",
       "      <td>3135.000000</td>\n",
       "      <td>3135.000000</td>\n",
       "      <td>3135.000000</td>\n",
       "      <td>3135.000000</td>\n",
       "      <td>3135.000000</td>\n",
       "      <td>3135.000000</td>\n",
       "      <td>3135.000000</td>\n",
       "      <td>3135.000000</td>\n",
       "      <td>2891.000000</td>\n",
       "      <td>3135.000000</td>\n",
       "      <td>3135.000000</td>\n",
       "      <td>3135.000000</td>\n",
       "      <td>3135.000000</td>\n",
       "      <td>3135.000000</td>\n",
       "      <td>3135.000000</td>\n",
       "      <td>3114.000000</td>\n",
       "    </tr>\n",
       "    <tr>\n",
       "      <th>mean</th>\n",
       "      <td>55190.815311</td>\n",
       "      <td>2.608293</td>\n",
       "      <td>38.431260</td>\n",
       "      <td>6.627432</td>\n",
       "      <td>2016.288676</td>\n",
       "      <td>30.123126</td>\n",
       "      <td>1233.283254</td>\n",
       "      <td>26.851537</td>\n",
       "      <td>413.512625</td>\n",
       "      <td>957.348644</td>\n",
       "      <td>2.874003</td>\n",
       "      <td>2.162041</td>\n",
       "      <td>186.698565</td>\n",
       "      <td>4.489633</td>\n",
       "      <td>2012.237640</td>\n",
       "      <td>115.107258</td>\n",
       "    </tr>\n",
       "    <tr>\n",
       "      <th>std</th>\n",
       "      <td>2976.896115</td>\n",
       "      <td>1.469210</td>\n",
       "      <td>2.614996</td>\n",
       "      <td>4.998112</td>\n",
       "      <td>285.392377</td>\n",
       "      <td>9.578921</td>\n",
       "      <td>323.901959</td>\n",
       "      <td>5.538927</td>\n",
       "      <td>474.181186</td>\n",
       "      <td>81.354107</td>\n",
       "      <td>1.654144</td>\n",
       "      <td>1.155393</td>\n",
       "      <td>150.556606</td>\n",
       "      <td>2.278014</td>\n",
       "      <td>0.673114</td>\n",
       "      <td>23.101504</td>\n",
       "    </tr>\n",
       "    <tr>\n",
       "      <th>min</th>\n",
       "      <td>50002.000000</td>\n",
       "      <td>1.000000</td>\n",
       "      <td>17.000000</td>\n",
       "      <td>1.000000</td>\n",
       "      <td>1983.000000</td>\n",
       "      <td>14.000000</td>\n",
       "      <td>991.000000</td>\n",
       "      <td>12.750000</td>\n",
       "      <td>0.000000</td>\n",
       "      <td>803.000000</td>\n",
       "      <td>1.000000</td>\n",
       "      <td>1.000000</td>\n",
       "      <td>7.000000</td>\n",
       "      <td>1.000000</td>\n",
       "      <td>2011.000000</td>\n",
       "      <td>8.000000</td>\n",
       "    </tr>\n",
       "    <tr>\n",
       "      <th>25%</th>\n",
       "      <td>52649.500000</td>\n",
       "      <td>1.000000</td>\n",
       "      <td>38.000000</td>\n",
       "      <td>3.000000</td>\n",
       "      <td>2003.000000</td>\n",
       "      <td>24.000000</td>\n",
       "      <td>1171.000000</td>\n",
       "      <td>22.660000</td>\n",
       "      <td>13.000000</td>\n",
       "      <td>890.500000</td>\n",
       "      <td>2.000000</td>\n",
       "      <td>1.000000</td>\n",
       "      <td>64.000000</td>\n",
       "      <td>3.000000</td>\n",
       "      <td>2012.000000</td>\n",
       "      <td>103.000000</td>\n",
       "    </tr>\n",
       "    <tr>\n",
       "      <th>50%</th>\n",
       "      <td>55163.000000</td>\n",
       "      <td>2.000000</td>\n",
       "      <td>39.000000</td>\n",
       "      <td>7.000000</td>\n",
       "      <td>2007.000000</td>\n",
       "      <td>29.000000</td>\n",
       "      <td>1233.000000</td>\n",
       "      <td>26.410000</td>\n",
       "      <td>52.000000</td>\n",
       "      <td>958.000000</td>\n",
       "      <td>3.000000</td>\n",
       "      <td>2.000000</td>\n",
       "      <td>138.000000</td>\n",
       "      <td>5.000000</td>\n",
       "      <td>2012.000000</td>\n",
       "      <td>117.000000</td>\n",
       "    </tr>\n",
       "    <tr>\n",
       "      <th>75%</th>\n",
       "      <td>57718.500000</td>\n",
       "      <td>3.000000</td>\n",
       "      <td>40.000000</td>\n",
       "      <td>9.000000</td>\n",
       "      <td>2010.000000</td>\n",
       "      <td>34.000000</td>\n",
       "      <td>1287.000000</td>\n",
       "      <td>30.750000</td>\n",
       "      <td>995.000000</td>\n",
       "      <td>1019.000000</td>\n",
       "      <td>4.000000</td>\n",
       "      <td>3.000000</td>\n",
       "      <td>287.000000</td>\n",
       "      <td>6.000000</td>\n",
       "      <td>2013.000000</td>\n",
       "      <td>128.000000</td>\n",
       "    </tr>\n",
       "    <tr>\n",
       "      <th>max</th>\n",
       "      <td>60414.000000</td>\n",
       "      <td>9.000000</td>\n",
       "      <td>46.000000</td>\n",
       "      <td>99.000000</td>\n",
       "      <td>9999.000000</td>\n",
       "      <td>99.000000</td>\n",
       "      <td>9999.000000</td>\n",
       "      <td>43.500000</td>\n",
       "      <td>995.000000</td>\n",
       "      <td>1169.000000</td>\n",
       "      <td>16.000000</td>\n",
       "      <td>10.000000</td>\n",
       "      <td>500.000000</td>\n",
       "      <td>8.000000</td>\n",
       "      <td>2013.000000</td>\n",
       "      <td>300.000000</td>\n",
       "    </tr>\n",
       "  </tbody>\n",
       "</table>\n",
       "</div>"
      ],
      "text/plain": [
       "             CASEID     PREGORDR      WKSGEST    BABYDOB_M    BABYDOB_Y  \\\n",
       "count   3135.000000  3135.000000  3135.000000  3135.000000  3135.000000   \n",
       "mean   55190.815311     2.608293    38.431260     6.627432  2016.288676   \n",
       "std     2976.896115     1.469210     2.614996     4.998112   285.392377   \n",
       "min    50002.000000     1.000000    17.000000     1.000000  1983.000000   \n",
       "25%    52649.500000     1.000000    38.000000     3.000000  2003.000000   \n",
       "50%    55163.000000     2.000000    39.000000     7.000000  2007.000000   \n",
       "75%    57718.500000     3.000000    40.000000     9.000000  2010.000000   \n",
       "max    60414.000000     9.000000    46.000000    99.000000  9999.000000   \n",
       "\n",
       "           HPAGELB     CMFSTPRG      AGEPREG     BFEEDWKS      CMBIRTH  \\\n",
       "count  3135.000000  3135.000000  3135.000000  2891.000000  3135.000000   \n",
       "mean     30.123126  1233.283254    26.851537   413.512625   957.348644   \n",
       "std       9.578921   323.901959     5.538927   474.181186    81.354107   \n",
       "min      14.000000   991.000000    12.750000     0.000000   803.000000   \n",
       "25%      24.000000  1171.000000    22.660000    13.000000   890.500000   \n",
       "50%      29.000000  1233.000000    26.410000    52.000000   958.000000   \n",
       "75%      34.000000  1287.000000    30.750000   995.000000  1019.000000   \n",
       "max      99.000000  9999.000000    43.500000   995.000000  1169.000000   \n",
       "\n",
       "           PREGNUM       PARITY      POVERTY      QUARTER    INTVWYEAR  \\\n",
       "count  3135.000000  3135.000000  3135.000000  3135.000000  3135.000000   \n",
       "mean      2.874003     2.162041   186.698565     4.489633  2012.237640   \n",
       "std       1.654144     1.155393   150.556606     2.278014     0.673114   \n",
       "min       1.000000     1.000000     7.000000     1.000000  2011.000000   \n",
       "25%       2.000000     1.000000    64.000000     3.000000  2012.000000   \n",
       "50%       3.000000     2.000000   138.000000     5.000000  2012.000000   \n",
       "75%       4.000000     3.000000   287.000000     6.000000  2013.000000   \n",
       "max      16.000000    10.000000   500.000000     8.000000  2013.000000   \n",
       "\n",
       "          BIRTHWGT  \n",
       "count  3114.000000  \n",
       "mean    115.107258  \n",
       "std      23.101504  \n",
       "min       8.000000  \n",
       "25%     103.000000  \n",
       "50%     117.000000  \n",
       "75%     128.000000  \n",
       "max     300.000000  "
      ]
     },
     "execution_count": 4,
     "metadata": {},
     "output_type": "execute_result"
    }
   ],
   "source": [
    "pregDemo.describe()"
   ]
  },
  {
   "cell_type": "code",
   "execution_count": 5,
   "metadata": {
    "collapsed": false
   },
   "outputs": [
    {
     "name": "stdout",
     "output_type": "stream",
     "text": [
      "(3135, 40)\n"
     ]
    }
   ],
   "source": [
    "print pregDemo.shape\n",
    "\n"
   ]
  },
  {
   "cell_type": "code",
   "execution_count": 37,
   "metadata": {
    "collapsed": false
   },
   "outputs": [
    {
     "data": {
      "text/html": [
       "<iframe id=\"igraph\" scrolling=\"no\" style=\"border:none;\" seamless=\"seamless\" src=\"https://plot.ly/~royhu91/137.embed\" height=\"525px\" width=\"100%\"></iframe>"
      ],
      "text/plain": [
       "<plotly.tools.PlotlyDisplay object>"
      ]
     },
     "execution_count": 37,
     "metadata": {},
     "output_type": "execute_result"
    }
   ],
   "source": [
    "data = [graph_objs.Histogram(x=pregDemo['BIRTHWGT'])]\n",
    "\n",
    "layout = graph_objs.Layout(\n",
    "    title='Birth Weight (ounces)',\n",
    "    xaxis=dict(\n",
    "        title='Mother Age',\n",
    "        titlefont=dict(\n",
    "            family='Courier New, monospace',\n",
    "            size=18,\n",
    "            color='#7f7f7f'\n",
    "        )\n",
    "    ),\n",
    "    yaxis=dict(\n",
    "        title='Frequency',\n",
    "        titlefont=dict(\n",
    "            family='Courier New, monospace',\n",
    "            size=18,\n",
    "            color='#7f7f7f'\n",
    "        )\n",
    "    )\n",
    ")\n",
    "\n",
    "fig = graph_objs.Figure(data=data, layout=layout)\n",
    "\n",
    "py.iplot(fig)"
   ]
  },
  {
   "cell_type": "markdown",
   "metadata": {},
   "source": [
    "And below is a statistical description of the Survey Response data set, which will be used for PCA:"
   ]
  },
  {
   "cell_type": "code",
   "execution_count": 6,
   "metadata": {
    "collapsed": false
   },
   "outputs": [
    {
     "data": {
      "text/html": [
       "<div>\n",
       "<table border=\"1\" class=\"dataframe\">\n",
       "  <thead>\n",
       "    <tr style=\"text-align: right;\">\n",
       "      <th></th>\n",
       "      <th>RSCRNINF</th>\n",
       "      <th>RSCRAGE</th>\n",
       "      <th>RSCRHISP</th>\n",
       "      <th>RSCRRACE</th>\n",
       "      <th>AGE_A</th>\n",
       "      <th>AGE_R</th>\n",
       "      <th>CMBIRTH</th>\n",
       "      <th>AGESCRN</th>\n",
       "      <th>MARSTAT</th>\n",
       "      <th>FMARIT</th>\n",
       "      <th>EVRMARRY</th>\n",
       "      <th>HISP</th>\n",
       "      <th>PRIMLANG1</th>\n",
       "      <th>ROSCNT</th>\n",
       "      <th>NUMCHILD</th>\n",
       "      <th>HHKIDS18</th>\n",
       "      <th>DAUGHT918</th>\n",
       "      <th>SON918</th>\n",
       "      <th>GOSCHOL</th>\n",
       "      <th>HIGRADE</th>\n",
       "      <th>COMPGRD</th>\n",
       "      <th>DIPGED</th>\n",
       "      <th>LSTGRADE</th>\n",
       "      <th>ONOWN</th>\n",
       "      <th>ONOWN18</th>\n",
       "      <th>...</th>\n",
       "      <th>COVER12</th>\n",
       "      <th>SAMEADD</th>\n",
       "      <th>BRNOUT</th>\n",
       "      <th>RELRAISD</th>\n",
       "      <th>RELCURR</th>\n",
       "      <th>RELTRAD</th>\n",
       "      <th>ATTNDNOW</th>\n",
       "      <th>WRK12MOS</th>\n",
       "      <th>DOLASTWK1</th>\n",
       "      <th>RWRKST</th>\n",
       "      <th>WORKP12</th>\n",
       "      <th>RNUMJOB</th>\n",
       "      <th>RFTPTX</th>\n",
       "      <th>REARNTY</th>\n",
       "      <th>STAYTOG</th>\n",
       "      <th>SAMESEX</th>\n",
       "      <th>SXOK18</th>\n",
       "      <th>SXOK16</th>\n",
       "      <th>CHUNLESS</th>\n",
       "      <th>CHSUPPOR</th>\n",
       "      <th>GAYADOPT</th>\n",
       "      <th>OKCOHAB</th>\n",
       "      <th>MARRFAIL</th>\n",
       "      <th>CHCOHAB</th>\n",
       "      <th>PRVNTDIV</th>\n",
       "    </tr>\n",
       "  </thead>\n",
       "  <tbody>\n",
       "    <tr>\n",
       "      <th>count</th>\n",
       "      <td>3135.000000</td>\n",
       "      <td>3135.000000</td>\n",
       "      <td>3135.000000</td>\n",
       "      <td>3135.000000</td>\n",
       "      <td>3135.000000</td>\n",
       "      <td>3135.000000</td>\n",
       "      <td>3135.000000</td>\n",
       "      <td>3135.000000</td>\n",
       "      <td>3135.000000</td>\n",
       "      <td>3135.000000</td>\n",
       "      <td>3135.000000</td>\n",
       "      <td>3135.000000</td>\n",
       "      <td>3135.000000</td>\n",
       "      <td>3135.000000</td>\n",
       "      <td>3135.000000</td>\n",
       "      <td>3135.000000</td>\n",
       "      <td>3135.000000</td>\n",
       "      <td>3135.000000</td>\n",
       "      <td>3135.000000</td>\n",
       "      <td>3135.000000</td>\n",
       "      <td>3123.000000</td>\n",
       "      <td>3093.000000</td>\n",
       "      <td>3135.000000</td>\n",
       "      <td>3133.000000</td>\n",
       "      <td>3135.000000</td>\n",
       "      <td>...</td>\n",
       "      <td>3135.000000</td>\n",
       "      <td>3135.000000</td>\n",
       "      <td>3135.000000</td>\n",
       "      <td>3135.000000</td>\n",
       "      <td>3135.000000</td>\n",
       "      <td>3135.000000</td>\n",
       "      <td>3135.000000</td>\n",
       "      <td>3135.000000</td>\n",
       "      <td>3135.000000</td>\n",
       "      <td>3135.000000</td>\n",
       "      <td>3135.000000</td>\n",
       "      <td>2926.00000</td>\n",
       "      <td>2926.000000</td>\n",
       "      <td>3135.000000</td>\n",
       "      <td>3135.000000</td>\n",
       "      <td>3135.000000</td>\n",
       "      <td>3135.000000</td>\n",
       "      <td>3135.000000</td>\n",
       "      <td>3135.000000</td>\n",
       "      <td>3135.000000</td>\n",
       "      <td>3135.000000</td>\n",
       "      <td>3135.000000</td>\n",
       "      <td>3135.000000</td>\n",
       "      <td>3135.000000</td>\n",
       "      <td>3135.000000</td>\n",
       "    </tr>\n",
       "    <tr>\n",
       "      <th>mean</th>\n",
       "      <td>2.296970</td>\n",
       "      <td>32.381818</td>\n",
       "      <td>3.913557</td>\n",
       "      <td>4.864434</td>\n",
       "      <td>32.478150</td>\n",
       "      <td>32.478150</td>\n",
       "      <td>957.348644</td>\n",
       "      <td>32.458373</td>\n",
       "      <td>2.887400</td>\n",
       "      <td>2.886124</td>\n",
       "      <td>0.647528</td>\n",
       "      <td>3.855183</td>\n",
       "      <td>1.233493</td>\n",
       "      <td>3.874003</td>\n",
       "      <td>1.541946</td>\n",
       "      <td>1.842743</td>\n",
       "      <td>0.308134</td>\n",
       "      <td>0.319936</td>\n",
       "      <td>4.460287</td>\n",
       "      <td>13.402552</td>\n",
       "      <td>2.278258</td>\n",
       "      <td>1.838021</td>\n",
       "      <td>11.370335</td>\n",
       "      <td>3.876476</td>\n",
       "      <td>3.874322</td>\n",
       "      <td>...</td>\n",
       "      <td>3.722807</td>\n",
       "      <td>2.698246</td>\n",
       "      <td>4.242105</td>\n",
       "      <td>3.610526</td>\n",
       "      <td>3.752472</td>\n",
       "      <td>3.357576</td>\n",
       "      <td>4.245933</td>\n",
       "      <td>7.279107</td>\n",
       "      <td>2.310367</td>\n",
       "      <td>2.552791</td>\n",
       "      <td>2.097289</td>\n",
       "      <td>1.08920</td>\n",
       "      <td>1.358168</td>\n",
       "      <td>1.266667</td>\n",
       "      <td>2.726954</td>\n",
       "      <td>2.610526</td>\n",
       "      <td>2.629665</td>\n",
       "      <td>3.406061</td>\n",
       "      <td>3.371611</td>\n",
       "      <td>2.050080</td>\n",
       "      <td>2.298884</td>\n",
       "      <td>2.820096</td>\n",
       "      <td>2.632536</td>\n",
       "      <td>2.169378</td>\n",
       "      <td>2.392344</td>\n",
       "    </tr>\n",
       "    <tr>\n",
       "      <th>std</th>\n",
       "      <td>1.873685</td>\n",
       "      <td>6.867465</td>\n",
       "      <td>1.780521</td>\n",
       "      <td>1.048502</td>\n",
       "      <td>6.788402</td>\n",
       "      <td>6.788402</td>\n",
       "      <td>81.354107</td>\n",
       "      <td>6.876435</td>\n",
       "      <td>2.094242</td>\n",
       "      <td>1.801080</td>\n",
       "      <td>0.477816</td>\n",
       "      <td>1.812903</td>\n",
       "      <td>0.895120</td>\n",
       "      <td>1.375929</td>\n",
       "      <td>1.031760</td>\n",
       "      <td>1.102511</td>\n",
       "      <td>0.562706</td>\n",
       "      <td>0.564902</td>\n",
       "      <td>1.366806</td>\n",
       "      <td>3.720619</td>\n",
       "      <td>1.871016</td>\n",
       "      <td>1.504612</td>\n",
       "      <td>1.534858</td>\n",
       "      <td>1.800844</td>\n",
       "      <td>1.800915</td>\n",
       "      <td>...</td>\n",
       "      <td>1.870583</td>\n",
       "      <td>1.977420</td>\n",
       "      <td>1.567788</td>\n",
       "      <td>2.138731</td>\n",
       "      <td>2.356671</td>\n",
       "      <td>1.739602</td>\n",
       "      <td>2.147511</td>\n",
       "      <td>5.548728</td>\n",
       "      <td>1.579929</td>\n",
       "      <td>1.949671</td>\n",
       "      <td>1.784973</td>\n",
       "      <td>0.34971</td>\n",
       "      <td>0.509278</td>\n",
       "      <td>0.997934</td>\n",
       "      <td>1.009886</td>\n",
       "      <td>1.125990</td>\n",
       "      <td>0.866125</td>\n",
       "      <td>0.689997</td>\n",
       "      <td>0.721640</td>\n",
       "      <td>0.849779</td>\n",
       "      <td>1.099246</td>\n",
       "      <td>0.865294</td>\n",
       "      <td>0.844420</td>\n",
       "      <td>0.803840</td>\n",
       "      <td>0.960186</td>\n",
       "    </tr>\n",
       "    <tr>\n",
       "      <th>min</th>\n",
       "      <td>1.000000</td>\n",
       "      <td>15.000000</td>\n",
       "      <td>1.000000</td>\n",
       "      <td>1.000000</td>\n",
       "      <td>15.000000</td>\n",
       "      <td>15.000000</td>\n",
       "      <td>803.000000</td>\n",
       "      <td>15.000000</td>\n",
       "      <td>1.000000</td>\n",
       "      <td>1.000000</td>\n",
       "      <td>0.000000</td>\n",
       "      <td>1.000000</td>\n",
       "      <td>1.000000</td>\n",
       "      <td>1.000000</td>\n",
       "      <td>0.000000</td>\n",
       "      <td>0.000000</td>\n",
       "      <td>0.000000</td>\n",
       "      <td>0.000000</td>\n",
       "      <td>1.000000</td>\n",
       "      <td>9.000000</td>\n",
       "      <td>1.000000</td>\n",
       "      <td>1.000000</td>\n",
       "      <td>0.000000</td>\n",
       "      <td>1.000000</td>\n",
       "      <td>1.000000</td>\n",
       "      <td>...</td>\n",
       "      <td>1.000000</td>\n",
       "      <td>1.000000</td>\n",
       "      <td>1.000000</td>\n",
       "      <td>1.000000</td>\n",
       "      <td>1.000000</td>\n",
       "      <td>1.000000</td>\n",
       "      <td>1.000000</td>\n",
       "      <td>0.000000</td>\n",
       "      <td>1.000000</td>\n",
       "      <td>1.000000</td>\n",
       "      <td>1.000000</td>\n",
       "      <td>1.00000</td>\n",
       "      <td>1.000000</td>\n",
       "      <td>1.000000</td>\n",
       "      <td>1.000000</td>\n",
       "      <td>1.000000</td>\n",
       "      <td>1.000000</td>\n",
       "      <td>1.000000</td>\n",
       "      <td>1.000000</td>\n",
       "      <td>1.000000</td>\n",
       "      <td>1.000000</td>\n",
       "      <td>1.000000</td>\n",
       "      <td>1.000000</td>\n",
       "      <td>1.000000</td>\n",
       "      <td>1.000000</td>\n",
       "    </tr>\n",
       "    <tr>\n",
       "      <th>25%</th>\n",
       "      <td>1.000000</td>\n",
       "      <td>27.000000</td>\n",
       "      <td>1.000000</td>\n",
       "      <td>4.000000</td>\n",
       "      <td>27.000000</td>\n",
       "      <td>27.000000</td>\n",
       "      <td>890.500000</td>\n",
       "      <td>27.000000</td>\n",
       "      <td>1.000000</td>\n",
       "      <td>1.000000</td>\n",
       "      <td>0.000000</td>\n",
       "      <td>1.000000</td>\n",
       "      <td>1.000000</td>\n",
       "      <td>3.000000</td>\n",
       "      <td>1.000000</td>\n",
       "      <td>1.000000</td>\n",
       "      <td>0.000000</td>\n",
       "      <td>0.000000</td>\n",
       "      <td>5.000000</td>\n",
       "      <td>12.000000</td>\n",
       "      <td>1.000000</td>\n",
       "      <td>1.000000</td>\n",
       "      <td>12.000000</td>\n",
       "      <td>1.000000</td>\n",
       "      <td>1.000000</td>\n",
       "      <td>...</td>\n",
       "      <td>1.000000</td>\n",
       "      <td>1.000000</td>\n",
       "      <td>5.000000</td>\n",
       "      <td>2.000000</td>\n",
       "      <td>2.000000</td>\n",
       "      <td>2.000000</td>\n",
       "      <td>2.000000</td>\n",
       "      <td>0.000000</td>\n",
       "      <td>1.000000</td>\n",
       "      <td>1.000000</td>\n",
       "      <td>1.000000</td>\n",
       "      <td>1.00000</td>\n",
       "      <td>1.000000</td>\n",
       "      <td>1.000000</td>\n",
       "      <td>2.000000</td>\n",
       "      <td>2.000000</td>\n",
       "      <td>2.000000</td>\n",
       "      <td>3.000000</td>\n",
       "      <td>3.000000</td>\n",
       "      <td>1.000000</td>\n",
       "      <td>2.000000</td>\n",
       "      <td>2.000000</td>\n",
       "      <td>2.000000</td>\n",
       "      <td>2.000000</td>\n",
       "      <td>2.000000</td>\n",
       "    </tr>\n",
       "    <tr>\n",
       "      <th>50%</th>\n",
       "      <td>1.000000</td>\n",
       "      <td>32.000000</td>\n",
       "      <td>5.000000</td>\n",
       "      <td>5.000000</td>\n",
       "      <td>32.000000</td>\n",
       "      <td>32.000000</td>\n",
       "      <td>958.000000</td>\n",
       "      <td>32.000000</td>\n",
       "      <td>2.000000</td>\n",
       "      <td>3.000000</td>\n",
       "      <td>1.000000</td>\n",
       "      <td>5.000000</td>\n",
       "      <td>1.000000</td>\n",
       "      <td>4.000000</td>\n",
       "      <td>1.000000</td>\n",
       "      <td>2.000000</td>\n",
       "      <td>0.000000</td>\n",
       "      <td>0.000000</td>\n",
       "      <td>5.000000</td>\n",
       "      <td>13.000000</td>\n",
       "      <td>1.000000</td>\n",
       "      <td>1.000000</td>\n",
       "      <td>12.000000</td>\n",
       "      <td>5.000000</td>\n",
       "      <td>5.000000</td>\n",
       "      <td>...</td>\n",
       "      <td>5.000000</td>\n",
       "      <td>1.000000</td>\n",
       "      <td>5.000000</td>\n",
       "      <td>3.000000</td>\n",
       "      <td>3.000000</td>\n",
       "      <td>3.000000</td>\n",
       "      <td>4.000000</td>\n",
       "      <td>10.000000</td>\n",
       "      <td>1.000000</td>\n",
       "      <td>1.000000</td>\n",
       "      <td>1.000000</td>\n",
       "      <td>1.00000</td>\n",
       "      <td>1.000000</td>\n",
       "      <td>1.000000</td>\n",
       "      <td>3.000000</td>\n",
       "      <td>2.000000</td>\n",
       "      <td>3.000000</td>\n",
       "      <td>3.000000</td>\n",
       "      <td>3.000000</td>\n",
       "      <td>2.000000</td>\n",
       "      <td>2.000000</td>\n",
       "      <td>3.000000</td>\n",
       "      <td>3.000000</td>\n",
       "      <td>2.000000</td>\n",
       "      <td>2.000000</td>\n",
       "    </tr>\n",
       "    <tr>\n",
       "      <th>75%</th>\n",
       "      <td>5.000000</td>\n",
       "      <td>38.000000</td>\n",
       "      <td>5.000000</td>\n",
       "      <td>6.000000</td>\n",
       "      <td>38.000000</td>\n",
       "      <td>38.000000</td>\n",
       "      <td>1019.000000</td>\n",
       "      <td>38.000000</td>\n",
       "      <td>5.000000</td>\n",
       "      <td>5.000000</td>\n",
       "      <td>1.000000</td>\n",
       "      <td>5.000000</td>\n",
       "      <td>1.000000</td>\n",
       "      <td>5.000000</td>\n",
       "      <td>2.000000</td>\n",
       "      <td>2.000000</td>\n",
       "      <td>1.000000</td>\n",
       "      <td>1.000000</td>\n",
       "      <td>5.000000</td>\n",
       "      <td>15.000000</td>\n",
       "      <td>5.000000</td>\n",
       "      <td>2.000000</td>\n",
       "      <td>12.000000</td>\n",
       "      <td>5.000000</td>\n",
       "      <td>5.000000</td>\n",
       "      <td>...</td>\n",
       "      <td>5.000000</td>\n",
       "      <td>5.000000</td>\n",
       "      <td>5.000000</td>\n",
       "      <td>5.000000</td>\n",
       "      <td>6.000000</td>\n",
       "      <td>5.000000</td>\n",
       "      <td>6.000000</td>\n",
       "      <td>12.000000</td>\n",
       "      <td>4.000000</td>\n",
       "      <td>5.000000</td>\n",
       "      <td>5.000000</td>\n",
       "      <td>1.00000</td>\n",
       "      <td>2.000000</td>\n",
       "      <td>1.000000</td>\n",
       "      <td>3.000000</td>\n",
       "      <td>3.000000</td>\n",
       "      <td>3.000000</td>\n",
       "      <td>4.000000</td>\n",
       "      <td>4.000000</td>\n",
       "      <td>2.000000</td>\n",
       "      <td>3.000000</td>\n",
       "      <td>3.000000</td>\n",
       "      <td>3.000000</td>\n",
       "      <td>2.000000</td>\n",
       "      <td>3.000000</td>\n",
       "    </tr>\n",
       "    <tr>\n",
       "      <th>max</th>\n",
       "      <td>7.000000</td>\n",
       "      <td>97.000000</td>\n",
       "      <td>7.000000</td>\n",
       "      <td>7.000000</td>\n",
       "      <td>45.000000</td>\n",
       "      <td>45.000000</td>\n",
       "      <td>1169.000000</td>\n",
       "      <td>97.000000</td>\n",
       "      <td>6.000000</td>\n",
       "      <td>5.000000</td>\n",
       "      <td>1.000000</td>\n",
       "      <td>9.000000</td>\n",
       "      <td>7.000000</td>\n",
       "      <td>8.000000</td>\n",
       "      <td>4.000000</td>\n",
       "      <td>5.000000</td>\n",
       "      <td>2.000000</td>\n",
       "      <td>2.000000</td>\n",
       "      <td>5.000000</td>\n",
       "      <td>99.000000</td>\n",
       "      <td>9.000000</td>\n",
       "      <td>5.000000</td>\n",
       "      <td>12.000000</td>\n",
       "      <td>9.000000</td>\n",
       "      <td>8.000000</td>\n",
       "      <td>...</td>\n",
       "      <td>9.000000</td>\n",
       "      <td>5.000000</td>\n",
       "      <td>5.000000</td>\n",
       "      <td>10.000000</td>\n",
       "      <td>10.000000</td>\n",
       "      <td>9.000000</td>\n",
       "      <td>9.000000</td>\n",
       "      <td>99.000000</td>\n",
       "      <td>6.000000</td>\n",
       "      <td>5.000000</td>\n",
       "      <td>5.000000</td>\n",
       "      <td>9.00000</td>\n",
       "      <td>3.000000</td>\n",
       "      <td>5.000000</td>\n",
       "      <td>9.000000</td>\n",
       "      <td>9.000000</td>\n",
       "      <td>9.000000</td>\n",
       "      <td>9.000000</td>\n",
       "      <td>9.000000</td>\n",
       "      <td>9.000000</td>\n",
       "      <td>9.000000</td>\n",
       "      <td>9.000000</td>\n",
       "      <td>9.000000</td>\n",
       "      <td>9.000000</td>\n",
       "      <td>9.000000</td>\n",
       "    </tr>\n",
       "  </tbody>\n",
       "</table>\n",
       "<p>8 rows × 388 columns</p>\n",
       "</div>"
      ],
      "text/plain": [
       "          RSCRNINF      RSCRAGE     RSCRHISP     RSCRRACE        AGE_A  \\\n",
       "count  3135.000000  3135.000000  3135.000000  3135.000000  3135.000000   \n",
       "mean      2.296970    32.381818     3.913557     4.864434    32.478150   \n",
       "std       1.873685     6.867465     1.780521     1.048502     6.788402   \n",
       "min       1.000000    15.000000     1.000000     1.000000    15.000000   \n",
       "25%       1.000000    27.000000     1.000000     4.000000    27.000000   \n",
       "50%       1.000000    32.000000     5.000000     5.000000    32.000000   \n",
       "75%       5.000000    38.000000     5.000000     6.000000    38.000000   \n",
       "max       7.000000    97.000000     7.000000     7.000000    45.000000   \n",
       "\n",
       "             AGE_R      CMBIRTH      AGESCRN      MARSTAT       FMARIT  \\\n",
       "count  3135.000000  3135.000000  3135.000000  3135.000000  3135.000000   \n",
       "mean     32.478150   957.348644    32.458373     2.887400     2.886124   \n",
       "std       6.788402    81.354107     6.876435     2.094242     1.801080   \n",
       "min      15.000000   803.000000    15.000000     1.000000     1.000000   \n",
       "25%      27.000000   890.500000    27.000000     1.000000     1.000000   \n",
       "50%      32.000000   958.000000    32.000000     2.000000     3.000000   \n",
       "75%      38.000000  1019.000000    38.000000     5.000000     5.000000   \n",
       "max      45.000000  1169.000000    97.000000     6.000000     5.000000   \n",
       "\n",
       "          EVRMARRY         HISP    PRIMLANG1       ROSCNT     NUMCHILD  \\\n",
       "count  3135.000000  3135.000000  3135.000000  3135.000000  3135.000000   \n",
       "mean      0.647528     3.855183     1.233493     3.874003     1.541946   \n",
       "std       0.477816     1.812903     0.895120     1.375929     1.031760   \n",
       "min       0.000000     1.000000     1.000000     1.000000     0.000000   \n",
       "25%       0.000000     1.000000     1.000000     3.000000     1.000000   \n",
       "50%       1.000000     5.000000     1.000000     4.000000     1.000000   \n",
       "75%       1.000000     5.000000     1.000000     5.000000     2.000000   \n",
       "max       1.000000     9.000000     7.000000     8.000000     4.000000   \n",
       "\n",
       "          HHKIDS18    DAUGHT918       SON918      GOSCHOL      HIGRADE  \\\n",
       "count  3135.000000  3135.000000  3135.000000  3135.000000  3135.000000   \n",
       "mean      1.842743     0.308134     0.319936     4.460287    13.402552   \n",
       "std       1.102511     0.562706     0.564902     1.366806     3.720619   \n",
       "min       0.000000     0.000000     0.000000     1.000000     9.000000   \n",
       "25%       1.000000     0.000000     0.000000     5.000000    12.000000   \n",
       "50%       2.000000     0.000000     0.000000     5.000000    13.000000   \n",
       "75%       2.000000     1.000000     1.000000     5.000000    15.000000   \n",
       "max       5.000000     2.000000     2.000000     5.000000    99.000000   \n",
       "\n",
       "           COMPGRD       DIPGED     LSTGRADE        ONOWN      ONOWN18  \\\n",
       "count  3123.000000  3093.000000  3135.000000  3133.000000  3135.000000   \n",
       "mean      2.278258     1.838021    11.370335     3.876476     3.874322   \n",
       "std       1.871016     1.504612     1.534858     1.800844     1.800915   \n",
       "min       1.000000     1.000000     0.000000     1.000000     1.000000   \n",
       "25%       1.000000     1.000000    12.000000     1.000000     1.000000   \n",
       "50%       1.000000     1.000000    12.000000     5.000000     5.000000   \n",
       "75%       5.000000     2.000000    12.000000     5.000000     5.000000   \n",
       "max       9.000000     5.000000    12.000000     9.000000     8.000000   \n",
       "\n",
       "          ...           COVER12      SAMEADD       BRNOUT     RELRAISD  \\\n",
       "count     ...       3135.000000  3135.000000  3135.000000  3135.000000   \n",
       "mean      ...          3.722807     2.698246     4.242105     3.610526   \n",
       "std       ...          1.870583     1.977420     1.567788     2.138731   \n",
       "min       ...          1.000000     1.000000     1.000000     1.000000   \n",
       "25%       ...          1.000000     1.000000     5.000000     2.000000   \n",
       "50%       ...          5.000000     1.000000     5.000000     3.000000   \n",
       "75%       ...          5.000000     5.000000     5.000000     5.000000   \n",
       "max       ...          9.000000     5.000000     5.000000    10.000000   \n",
       "\n",
       "           RELCURR      RELTRAD     ATTNDNOW     WRK12MOS    DOLASTWK1  \\\n",
       "count  3135.000000  3135.000000  3135.000000  3135.000000  3135.000000   \n",
       "mean      3.752472     3.357576     4.245933     7.279107     2.310367   \n",
       "std       2.356671     1.739602     2.147511     5.548728     1.579929   \n",
       "min       1.000000     1.000000     1.000000     0.000000     1.000000   \n",
       "25%       2.000000     2.000000     2.000000     0.000000     1.000000   \n",
       "50%       3.000000     3.000000     4.000000    10.000000     1.000000   \n",
       "75%       6.000000     5.000000     6.000000    12.000000     4.000000   \n",
       "max      10.000000     9.000000     9.000000    99.000000     6.000000   \n",
       "\n",
       "            RWRKST      WORKP12     RNUMJOB       RFTPTX      REARNTY  \\\n",
       "count  3135.000000  3135.000000  2926.00000  2926.000000  3135.000000   \n",
       "mean      2.552791     2.097289     1.08920     1.358168     1.266667   \n",
       "std       1.949671     1.784973     0.34971     0.509278     0.997934   \n",
       "min       1.000000     1.000000     1.00000     1.000000     1.000000   \n",
       "25%       1.000000     1.000000     1.00000     1.000000     1.000000   \n",
       "50%       1.000000     1.000000     1.00000     1.000000     1.000000   \n",
       "75%       5.000000     5.000000     1.00000     2.000000     1.000000   \n",
       "max       5.000000     5.000000     9.00000     3.000000     5.000000   \n",
       "\n",
       "           STAYTOG      SAMESEX       SXOK18       SXOK16     CHUNLESS  \\\n",
       "count  3135.000000  3135.000000  3135.000000  3135.000000  3135.000000   \n",
       "mean      2.726954     2.610526     2.629665     3.406061     3.371611   \n",
       "std       1.009886     1.125990     0.866125     0.689997     0.721640   \n",
       "min       1.000000     1.000000     1.000000     1.000000     1.000000   \n",
       "25%       2.000000     2.000000     2.000000     3.000000     3.000000   \n",
       "50%       3.000000     2.000000     3.000000     3.000000     3.000000   \n",
       "75%       3.000000     3.000000     3.000000     4.000000     4.000000   \n",
       "max       9.000000     9.000000     9.000000     9.000000     9.000000   \n",
       "\n",
       "          CHSUPPOR     GAYADOPT      OKCOHAB     MARRFAIL      CHCOHAB  \\\n",
       "count  3135.000000  3135.000000  3135.000000  3135.000000  3135.000000   \n",
       "mean      2.050080     2.298884     2.820096     2.632536     2.169378   \n",
       "std       0.849779     1.099246     0.865294     0.844420     0.803840   \n",
       "min       1.000000     1.000000     1.000000     1.000000     1.000000   \n",
       "25%       1.000000     2.000000     2.000000     2.000000     2.000000   \n",
       "50%       2.000000     2.000000     3.000000     3.000000     2.000000   \n",
       "75%       2.000000     3.000000     3.000000     3.000000     2.000000   \n",
       "max       9.000000     9.000000     9.000000     9.000000     9.000000   \n",
       "\n",
       "          PRVNTDIV  \n",
       "count  3135.000000  \n",
       "mean      2.392344  \n",
       "std       0.960186  \n",
       "min       1.000000  \n",
       "25%       2.000000  \n",
       "50%       2.000000  \n",
       "75%       3.000000  \n",
       "max       9.000000  \n",
       "\n",
       "[8 rows x 388 columns]"
      ]
     },
     "execution_count": 6,
     "metadata": {},
     "output_type": "execute_result"
    }
   ],
   "source": [
    "pregResponse.describe()"
   ]
  },
  {
   "cell_type": "code",
   "execution_count": 7,
   "metadata": {
    "collapsed": false
   },
   "outputs": [
    {
     "name": "stdout",
     "output_type": "stream",
     "text": [
      "(3135, 388)\n"
     ]
    }
   ],
   "source": [
    "print pregResponse.shape"
   ]
  },
  {
   "cell_type": "markdown",
   "metadata": {},
   "source": [
    "### <span style=\"color:gray\"> Exploratory Visualization </span> "
   ]
  },
  {
   "cell_type": "markdown",
   "metadata": {},
   "source": [
    "At this point, I still have two data sets: the <b>Demographics</b> and the <b>Survey Response</b> set. Just to get a feel for the problem at hand, the causal effect of mother's age (years) on birth weights (oz), we can visualize a scatterplot of the feature for age and the feature for birth weights."
   ]
  },
  {
   "cell_type": "code",
   "execution_count": 8,
   "metadata": {
    "collapsed": true
   },
   "outputs": [],
   "source": [
    "import plotly.plotly as py\n",
    "from plotly.graph_objs import *\n",
    "py.sign_in('royhu91', 'zc47pzxjzy')\n",
    "import plotly.tools as tls"
   ]
  },
  {
   "cell_type": "code",
   "execution_count": 9,
   "metadata": {
    "collapsed": false
   },
   "outputs": [
    {
     "data": {
      "text/html": [
       "<iframe id=\"igraph\" scrolling=\"no\" style=\"border:none;\" seamless=\"seamless\" src=\"https://plot.ly/~royhu91/8.embed\" height=\"525px\" width=\"100%\"></iframe>"
      ],
      "text/plain": [
       "<plotly.tools.PlotlyDisplay object>"
      ]
     },
     "execution_count": 9,
     "metadata": {},
     "output_type": "execute_result"
    }
   ],
   "source": [
    "trace = graph_objs.Scatter(\n",
    "    x = pregDemo['AGEPREG'],\n",
    "    y = pregDemo['BIRTHWGT'],\n",
    "    mode = 'markers'\n",
    ")\n",
    "\n",
    "layout = graph_objs.Layout(\n",
    "    title='Age on Birthweight Scatterplot',\n",
    "    xaxis=dict(\n",
    "        title='Mother Age',\n",
    "        titlefont=dict(\n",
    "            family='Courier New, monospace',\n",
    "            size=18,\n",
    "            color='#7f7f7f'\n",
    "        )\n",
    "    ),\n",
    "    yaxis=dict(\n",
    "        title='Infant Birthweight (oz)',\n",
    "        titlefont=dict(\n",
    "            family='Courier New, monospace',\n",
    "            size=18,\n",
    "            color='#7f7f7f'\n",
    "        )\n",
    "    )\n",
    ")\n",
    "\n",
    "data = [trace]\n",
    "fig = graph_objs.Figure(data=data, layout=layout)\n",
    "py.iplot(fig, filename='basic-scatter')"
   ]
  },
  {
   "cell_type": "code",
   "execution_count": null,
   "metadata": {
    "collapsed": false
   },
   "outputs": [],
   "source": []
  },
  {
   "cell_type": "markdown",
   "metadata": {},
   "source": [
    "Interestingly enough, visually there does not seem to be much of an effect of age on birth weights at all; in fact, if anything, it might even be slightly positive. A simple OLS estimate of the coefficient for age is 0.009, statistically significant at the 1% level, an interesting result because it suggests that the effect on birthweights for each additional mother's year is increasing.\n",
    "\n",
    "Of course, both theory and intuition would say that all else being equal, age should have a negative effect on birth weights. As described previously, there are many confounding factors, such as socio-economic statuses that may increase as the mother gets older. The point of this project will be to find the true causal effect of birth weights on age.\n",
    "\n",
    "Leaving the <b>Demographics</b> data set for a moment, the next step will be to take the <b>Survey and Repsonse</b> data set, which has 388 features, and apply PCA to reduce the dimensionality and create orthogonal PCAs."
   ]
  },
  {
   "cell_type": "code",
   "execution_count": 10,
   "metadata": {
    "collapsed": false
   },
   "outputs": [],
   "source": [
    "from sklearn.decomposition import PCA\n",
    "from sklearn.preprocessing import Imputer\n",
    "\n",
    "imp = Imputer(missing_values=\"NaN\", strategy='mean', axis=0)\n",
    "imp.fit(pregResponse)\n",
    "\n",
    "pregResponse = imp.transform(pregResponse)\n",
    "\n",
    "# TODO: Apply PCA by fitting the good data with the same number of dimensions as features\n",
    "pca = PCA(n_components=300)\n",
    "pca.fit(pregResponse)\n",
    "\n",
    "# Generate PCA results plot\n",
    "var= pca.explained_variance_ratio_\n"
   ]
  },
  {
   "cell_type": "markdown",
   "metadata": {},
   "source": [
    "Below is a plot of the total variance explained and the cumulative variance for the first 20 components:"
   ]
  },
  {
   "cell_type": "code",
   "execution_count": 11,
   "metadata": {
    "collapsed": false
   },
   "outputs": [
    {
     "data": {
      "text/html": [
       "<iframe id=\"igraph\" scrolling=\"no\" style=\"border:none;\" seamless=\"seamless\" src=\"https://plot.ly/~royhu91/129.embed\" height=\"525px\" width=\"100%\"></iframe>"
      ],
      "text/plain": [
       "<plotly.tools.PlotlyDisplay object>"
      ]
     },
     "execution_count": 11,
     "metadata": {},
     "output_type": "execute_result"
    }
   ],
   "source": [
    "cum_var_exp = np.cumsum(var)\n",
    "\n",
    "trace1 = Bar(\n",
    "        x=['PC %s' %i for i in range(1,20)],\n",
    "        y=var,\n",
    "        showlegend=False)\n",
    "\n",
    "trace2 = Scatter(\n",
    "        x=['PC %s' %i for i in range(1,20)], \n",
    "        y=cum_var_exp,\n",
    "        name='cumulative explained variance')\n",
    "\n",
    "data = Data([trace1, trace2])\n",
    "\n",
    "layout=Layout(\n",
    "        yaxis=YAxis(title='Explained variance in percent'),\n",
    "        title='Explained variance by different principal components')\n",
    "\n",
    "fig = Figure(data=data, layout=layout)\n",
    "py.iplot(fig)"
   ]
  },
  {
   "cell_type": "markdown",
   "metadata": {},
   "source": [
    "As visualized above, the first principal component explains 58.09% of the variation, decreasing with each subsequent PC. I'm using the \"elbow rule\" to decide how many PCs to use; to me, it looks like after the 5th PC it doesn't seem worth it to include additional components. 5 principal components explains a total of 97.05% of the variation. "
   ]
  },
  {
   "cell_type": "code",
   "execution_count": 12,
   "metadata": {
    "collapsed": false
   },
   "outputs": [],
   "source": [
    "pca = PCA(n_components=5) #Use 5 as previously identified.\n",
    "pca.fit(pregResponse)\n",
    "\n",
    "X1=pca.transform(pregResponse)\n",
    "X2 = pd.DataFrame(X1)\n",
    "X2['CASEID'] = pregDemo['CASEID']"
   ]
  },
  {
   "cell_type": "markdown",
   "metadata": {},
   "source": [
    "Next, I will combine the two data sets into one to prepare for analysis."
   ]
  },
  {
   "cell_type": "code",
   "execution_count": 13,
   "metadata": {
    "collapsed": false,
    "scrolled": false
   },
   "outputs": [
    {
     "data": {
      "text/plain": [
       "(3135, 45)"
      ]
     },
     "execution_count": 13,
     "metadata": {},
     "output_type": "execute_result"
    }
   ],
   "source": [
    "new_data = pd.merge(pregDemo, X2,on='CASEID')\n",
    "new_data.shape"
   ]
  },
  {
   "cell_type": "markdown",
   "metadata": {},
   "source": [
    "I first convert factor variables into numeric and dummies, and performa a simple mean imputation for any remaining missing values:"
   ]
  },
  {
   "cell_type": "code",
   "execution_count": 14,
   "metadata": {
    "collapsed": false
   },
   "outputs": [
    {
     "name": "stdout",
     "output_type": "stream",
     "text": [
      "Processed feature columns (128):-\n",
      "['CASEID', 'PREGORDR', 'WKSGEST', 'BABYSEX1_Female', 'BABYSEX1_Male', 'BABYDOB_M', 'BABYDOB_Y', 'HPAGELB', 'ANYNURSE1_No', 'ANYNURSE1_Refused', 'ANYNURSE1_Yes', 'CMFSTPRG', 'ANYUSINT_No', 'ANYUSINT_Yes', \"HPWNOLD_Don't know\", 'HPWNOLD_No', \"HPWNOLD_Not sure, Don't know\", 'HPWNOLD_Refused', 'HPWNOLD_Yes', 'AGEPREG', 'FMAROUT5_NEVER MARRIED', 'FMAROUT5_divorced', 'FMAROUT5_married', 'FMAROUT5_separated', 'FMAROUT5_widowed', 'PMARPREG_1', 'PMARPREG_No', 'RMAROUT6_NEVER MARRIED, NOT COHABITING', 'RMAROUT6_cohabiting', 'RMAROUT6_divorced', 'RMAROUT6_married', 'RMAROUT6_separated', 'RMAROUT6_widowed', 'FMARCON5_NEVER MARRIED', 'FMARCON5_divorced', 'FMARCON5_married', 'FMARCON5_separated', 'FMARCON5_widowed', 'RMARCON6_NEVER MARRIED, NOT COHABITING', 'RMARCON6_cohabiting', 'RMARCON6_divorced', 'RMARCON6_married', 'RMARCON6_separated', 'RMARCON6_widowed', 'BFEEDWKS', \"WANTRESP_DIDN'T CARE, INDIFFERENT\", \"WANTRESP_DON'T KNOW, NOT SURE\", 'WANTRESP_LATER, OVERDUE', 'WANTRESP_RIGHT TIME', 'WANTRESP_TOO SOON, MISTIMED', 'WANTRESP_UNWANTED', \"WANTPART_DIDN'T CARE, INDIFFERENT\", \"WANTPART_DON'T KNOW, NOT SURE\", 'WANTPART_LATER, OVERDUE', 'WANTPART_RIGHT TIME', 'WANTPART_TOO SOON, MISTIMED', 'WANTPART_UNWANTED', 'CMBIRTH', 'FMARITAL_NEVER MARRIED', 'FMARITAL_divorced', 'FMARITAL_married', 'FMARITAL_separated', 'FMARITAL_widowed', 'RMARITAL_CURRENTLY MARRIED', 'RMARITAL_NEVER BEEN MARRIED', 'RMARITAL_NOT MARRIED BUT LIVING WITH OPP SEX PARTNER', 'RMARITAL_SEPARATED FOR REASONS OF MARITAL DISCORD', 'RMARITAL_divorced', 'RMARITAL_widowed', 'HIEDUC_10TH GRADE', 'HIEDUC_11TH GRADE', 'HIEDUC_12TH GRADE, NO DIPLOMA (NOR GED)', 'HIEDUC_9TH GRADE OR LESS', 'HIEDUC_ASSOCIATE DEGREE IN COLLEGE/UNIVERSITY', \"HIEDUC_BACHELOR'S DEGREE\", 'HIEDUC_DOCTORATE DEGREE', 'HIEDUC_HIGH SCHOOL GRADUATE (DIPLOMA OR GED)', \"HIEDUC_MASTER'S DEGREE\", 'HIEDUC_PROFESSIONAL DEGREE', 'HIEDUC_SOME COLLEGE BUT NO DEGREE', 'RACE_black', 'RACE_other', 'RACE_white', 'HISPANIC_NON-HISPANIC', 'HISPANIC_hispanic', 'HISPRACE_Hispanic', 'HISPRACE_Non-Hispanic Black', 'HISPRACE_Non-Hispanic Other', 'HISPRACE_Non-Hispanic White', 'HISPRACE2_Hispanic', 'HISPRACE2_Non-Hispanic Black, Single Race', 'HISPRACE2_Non-Hispanic Other or Multiple Race', 'HISPRACE2_Non-Hispanic White, Single Race', 'PREGNUM', 'PARITY', 'CURR_INS_Currently covered by Medicaid, CHIP, or a state-sponsored health plan', 'CURR_INS_Currently covered by Medicare, military health care, or other government health care', 'CURR_INS_Currently covered by private health insurance or Medi-Gap', 'CURR_INS_Currently covered only by a single-service plan, only by the Indian Health Service, or currently not covered by health insurance', 'PUBASSIS_NO (DID NOT RECEIVE PUBLIC ASSISTANCE IN [INTERVIEW YEAR -1])', 'PUBASSIS_YES (RECEIVED PUBLIC ASSISTANCE IN [INTERVIEW YEAR -1])', 'POVERTY', 'LABORFOR_CARING FOR FAMILY', 'LABORFOR_KEEPING HOUSE', 'LABORFOR_NOT WORKING BUT LOOKING FOR WORK', 'LABORFOR_WORKING FULL-TIME', 'LABORFOR_WORKING PART-TIME', 'LABORFOR_WORKING-MATERNITY OR FAMILY LEAVE', 'LABORFOR_WORKING-TEMP ILL/ETC', 'LABORFOR_other', 'LABORFOR_school', 'RELIGION_NO RELIGION', 'RELIGION_OTHER RELIGIONS', 'RELIGION_catholic', 'RELIGION_protestant', 'METRO_Not MSA', 'METRO_Other MSA', 'METRO_Principal city of MSA', 'BRNOUT_No', 'BRNOUT_Yes', 'QUARTER', 'INTVWYEAR', 'BIRTHWGT', 0, 1, 2, 3, 4]\n"
     ]
    }
   ],
   "source": [
    "def preprocess_features(X):\n",
    "    outX = pd.DataFrame(index=X.index)  # output dataframe, initially empty\n",
    "\n",
    "    # Check each column\n",
    "    for col, col_data in X.iteritems():\n",
    "        # If data type is non-numeric, try to replace all yes/no values with 1/0\n",
    "        if col_data.dtype == object:\n",
    "            col_data = col_data.replace(['yes', 'no'], [1, 0])\n",
    "        # Note: This should change the data type for yes/no columns to int\n",
    "\n",
    "        # If still non-numeric, convert to one or more dummy variables\n",
    "        if col_data.dtype == object:\n",
    "            col_data = pd.get_dummies(col_data, prefix=col)  # e.g. 'school' => 'school_GP', 'school_MS'\n",
    "\n",
    "        outX = outX.join(col_data)  # collect column(s) in output dataframe\n",
    "\n",
    "    return outX\n",
    "\n",
    "new_data = preprocess_features(new_data)\n",
    "print \"Processed feature columns ({}):-\\n{}\".format(len(new_data.columns), list(new_data.columns))\n",
    "\n",
    "imp = Imputer(missing_values=\"NaN\", strategy='mean', axis=1)\n",
    "\n",
    "imputed_DF = pd.DataFrame(imp.fit_transform(new_data))\n",
    "imputed_DF.columns =new_data.columns\n",
    "imputed_DF.index = new_data.index"
   ]
  },
  {
   "cell_type": "code",
   "execution_count": 15,
   "metadata": {
    "collapsed": false
   },
   "outputs": [
    {
     "data": {
      "text/html": [
       "<div>\n",
       "<table border=\"1\" class=\"dataframe\">\n",
       "  <thead>\n",
       "    <tr style=\"text-align: right;\">\n",
       "      <th></th>\n",
       "      <th>CASEID</th>\n",
       "      <th>PREGORDR</th>\n",
       "      <th>WKSGEST</th>\n",
       "      <th>BABYSEX1_Female</th>\n",
       "      <th>BABYSEX1_Male</th>\n",
       "      <th>BABYDOB_M</th>\n",
       "      <th>BABYDOB_Y</th>\n",
       "      <th>HPAGELB</th>\n",
       "      <th>ANYNURSE1_No</th>\n",
       "      <th>ANYNURSE1_Refused</th>\n",
       "      <th>ANYNURSE1_Yes</th>\n",
       "      <th>CMFSTPRG</th>\n",
       "      <th>ANYUSINT_No</th>\n",
       "      <th>ANYUSINT_Yes</th>\n",
       "      <th>HPWNOLD_Don't know</th>\n",
       "      <th>HPWNOLD_No</th>\n",
       "      <th>HPWNOLD_Not sure, Don't know</th>\n",
       "      <th>HPWNOLD_Refused</th>\n",
       "      <th>HPWNOLD_Yes</th>\n",
       "      <th>AGEPREG</th>\n",
       "      <th>FMAROUT5_NEVER MARRIED</th>\n",
       "      <th>FMAROUT5_divorced</th>\n",
       "      <th>FMAROUT5_married</th>\n",
       "      <th>FMAROUT5_separated</th>\n",
       "      <th>FMAROUT5_widowed</th>\n",
       "      <th>...</th>\n",
       "      <th>LABORFOR_KEEPING HOUSE</th>\n",
       "      <th>LABORFOR_NOT WORKING BUT LOOKING FOR WORK</th>\n",
       "      <th>LABORFOR_WORKING FULL-TIME</th>\n",
       "      <th>LABORFOR_WORKING PART-TIME</th>\n",
       "      <th>LABORFOR_WORKING-MATERNITY OR FAMILY LEAVE</th>\n",
       "      <th>LABORFOR_WORKING-TEMP ILL/ETC</th>\n",
       "      <th>LABORFOR_other</th>\n",
       "      <th>LABORFOR_school</th>\n",
       "      <th>RELIGION_NO RELIGION</th>\n",
       "      <th>RELIGION_OTHER RELIGIONS</th>\n",
       "      <th>RELIGION_catholic</th>\n",
       "      <th>RELIGION_protestant</th>\n",
       "      <th>METRO_Not MSA</th>\n",
       "      <th>METRO_Other MSA</th>\n",
       "      <th>METRO_Principal city of MSA</th>\n",
       "      <th>BRNOUT_No</th>\n",
       "      <th>BRNOUT_Yes</th>\n",
       "      <th>QUARTER</th>\n",
       "      <th>INTVWYEAR</th>\n",
       "      <th>BIRTHWGT</th>\n",
       "      <th>0</th>\n",
       "      <th>1</th>\n",
       "      <th>2</th>\n",
       "      <th>3</th>\n",
       "      <th>4</th>\n",
       "    </tr>\n",
       "  </thead>\n",
       "  <tbody>\n",
       "    <tr>\n",
       "      <th>0</th>\n",
       "      <td>50002</td>\n",
       "      <td>1</td>\n",
       "      <td>39</td>\n",
       "      <td>0</td>\n",
       "      <td>1</td>\n",
       "      <td>8</td>\n",
       "      <td>2009</td>\n",
       "      <td>36</td>\n",
       "      <td>0</td>\n",
       "      <td>0</td>\n",
       "      <td>1</td>\n",
       "      <td>1316</td>\n",
       "      <td>1</td>\n",
       "      <td>0</td>\n",
       "      <td>0</td>\n",
       "      <td>0</td>\n",
       "      <td>0</td>\n",
       "      <td>0</td>\n",
       "      <td>1</td>\n",
       "      <td>32.83</td>\n",
       "      <td>0</td>\n",
       "      <td>0</td>\n",
       "      <td>1</td>\n",
       "      <td>0</td>\n",
       "      <td>0</td>\n",
       "      <td>...</td>\n",
       "      <td>0</td>\n",
       "      <td>1</td>\n",
       "      <td>0</td>\n",
       "      <td>0</td>\n",
       "      <td>0</td>\n",
       "      <td>0</td>\n",
       "      <td>0</td>\n",
       "      <td>0</td>\n",
       "      <td>0</td>\n",
       "      <td>0</td>\n",
       "      <td>0</td>\n",
       "      <td>1</td>\n",
       "      <td>0</td>\n",
       "      <td>0</td>\n",
       "      <td>1</td>\n",
       "      <td>1</td>\n",
       "      <td>0</td>\n",
       "      <td>6</td>\n",
       "      <td>2013</td>\n",
       "      <td>112</td>\n",
       "      <td>1045.090563</td>\n",
       "      <td>-151.222306</td>\n",
       "      <td>-93.575592</td>\n",
       "      <td>65.294351</td>\n",
       "      <td>7.762393</td>\n",
       "    </tr>\n",
       "    <tr>\n",
       "      <th>1</th>\n",
       "      <td>50005</td>\n",
       "      <td>1</td>\n",
       "      <td>40</td>\n",
       "      <td>1</td>\n",
       "      <td>0</td>\n",
       "      <td>7</td>\n",
       "      <td>2005</td>\n",
       "      <td>20</td>\n",
       "      <td>0</td>\n",
       "      <td>0</td>\n",
       "      <td>1</td>\n",
       "      <td>1267</td>\n",
       "      <td>0</td>\n",
       "      <td>1</td>\n",
       "      <td>0</td>\n",
       "      <td>0</td>\n",
       "      <td>0</td>\n",
       "      <td>0</td>\n",
       "      <td>1</td>\n",
       "      <td>22.16</td>\n",
       "      <td>1</td>\n",
       "      <td>0</td>\n",
       "      <td>0</td>\n",
       "      <td>0</td>\n",
       "      <td>0</td>\n",
       "      <td>...</td>\n",
       "      <td>0</td>\n",
       "      <td>1</td>\n",
       "      <td>0</td>\n",
       "      <td>0</td>\n",
       "      <td>0</td>\n",
       "      <td>0</td>\n",
       "      <td>0</td>\n",
       "      <td>0</td>\n",
       "      <td>0</td>\n",
       "      <td>0</td>\n",
       "      <td>1</td>\n",
       "      <td>0</td>\n",
       "      <td>0</td>\n",
       "      <td>0</td>\n",
       "      <td>1</td>\n",
       "      <td>1</td>\n",
       "      <td>0</td>\n",
       "      <td>7</td>\n",
       "      <td>2013</td>\n",
       "      <td>146</td>\n",
       "      <td>1264.584188</td>\n",
       "      <td>-0.471838</td>\n",
       "      <td>-76.150700</td>\n",
       "      <td>-13.906694</td>\n",
       "      <td>55.727967</td>\n",
       "    </tr>\n",
       "    <tr>\n",
       "      <th>2</th>\n",
       "      <td>50008</td>\n",
       "      <td>3</td>\n",
       "      <td>39</td>\n",
       "      <td>1</td>\n",
       "      <td>0</td>\n",
       "      <td>7</td>\n",
       "      <td>1994</td>\n",
       "      <td>27</td>\n",
       "      <td>0</td>\n",
       "      <td>0</td>\n",
       "      <td>1</td>\n",
       "      <td>1088</td>\n",
       "      <td>1</td>\n",
       "      <td>0</td>\n",
       "      <td>0</td>\n",
       "      <td>1</td>\n",
       "      <td>0</td>\n",
       "      <td>0</td>\n",
       "      <td>0</td>\n",
       "      <td>25.08</td>\n",
       "      <td>1</td>\n",
       "      <td>0</td>\n",
       "      <td>0</td>\n",
       "      <td>0</td>\n",
       "      <td>0</td>\n",
       "      <td>...</td>\n",
       "      <td>1</td>\n",
       "      <td>0</td>\n",
       "      <td>0</td>\n",
       "      <td>0</td>\n",
       "      <td>0</td>\n",
       "      <td>0</td>\n",
       "      <td>0</td>\n",
       "      <td>0</td>\n",
       "      <td>0</td>\n",
       "      <td>0</td>\n",
       "      <td>0</td>\n",
       "      <td>1</td>\n",
       "      <td>0</td>\n",
       "      <td>0</td>\n",
       "      <td>1</td>\n",
       "      <td>1</td>\n",
       "      <td>0</td>\n",
       "      <td>5</td>\n",
       "      <td>2012</td>\n",
       "      <td>112</td>\n",
       "      <td>-9280.254203</td>\n",
       "      <td>-875.691060</td>\n",
       "      <td>-5933.507031</td>\n",
       "      <td>2916.727466</td>\n",
       "      <td>603.871978</td>\n",
       "    </tr>\n",
       "    <tr>\n",
       "      <th>3</th>\n",
       "      <td>50015</td>\n",
       "      <td>4</td>\n",
       "      <td>38</td>\n",
       "      <td>0</td>\n",
       "      <td>1</td>\n",
       "      <td>9</td>\n",
       "      <td>2004</td>\n",
       "      <td>28</td>\n",
       "      <td>0</td>\n",
       "      <td>0</td>\n",
       "      <td>1</td>\n",
       "      <td>1196</td>\n",
       "      <td>1</td>\n",
       "      <td>0</td>\n",
       "      <td>0</td>\n",
       "      <td>0</td>\n",
       "      <td>0</td>\n",
       "      <td>0</td>\n",
       "      <td>1</td>\n",
       "      <td>25.16</td>\n",
       "      <td>0</td>\n",
       "      <td>0</td>\n",
       "      <td>1</td>\n",
       "      <td>0</td>\n",
       "      <td>0</td>\n",
       "      <td>...</td>\n",
       "      <td>0</td>\n",
       "      <td>0</td>\n",
       "      <td>0</td>\n",
       "      <td>1</td>\n",
       "      <td>0</td>\n",
       "      <td>0</td>\n",
       "      <td>0</td>\n",
       "      <td>0</td>\n",
       "      <td>0</td>\n",
       "      <td>0</td>\n",
       "      <td>0</td>\n",
       "      <td>1</td>\n",
       "      <td>1</td>\n",
       "      <td>0</td>\n",
       "      <td>0</td>\n",
       "      <td>1</td>\n",
       "      <td>0</td>\n",
       "      <td>6</td>\n",
       "      <td>2013</td>\n",
       "      <td>125</td>\n",
       "      <td>1298.538037</td>\n",
       "      <td>32.085047</td>\n",
       "      <td>-79.159191</td>\n",
       "      <td>-27.861786</td>\n",
       "      <td>84.874972</td>\n",
       "    </tr>\n",
       "    <tr>\n",
       "      <th>4</th>\n",
       "      <td>50022</td>\n",
       "      <td>1</td>\n",
       "      <td>38</td>\n",
       "      <td>0</td>\n",
       "      <td>1</td>\n",
       "      <td>11</td>\n",
       "      <td>2005</td>\n",
       "      <td>35</td>\n",
       "      <td>0</td>\n",
       "      <td>0</td>\n",
       "      <td>1</td>\n",
       "      <td>1271</td>\n",
       "      <td>0</td>\n",
       "      <td>1</td>\n",
       "      <td>0</td>\n",
       "      <td>0</td>\n",
       "      <td>0</td>\n",
       "      <td>0</td>\n",
       "      <td>1</td>\n",
       "      <td>33.16</td>\n",
       "      <td>0</td>\n",
       "      <td>0</td>\n",
       "      <td>1</td>\n",
       "      <td>0</td>\n",
       "      <td>0</td>\n",
       "      <td>...</td>\n",
       "      <td>0</td>\n",
       "      <td>0</td>\n",
       "      <td>1</td>\n",
       "      <td>0</td>\n",
       "      <td>0</td>\n",
       "      <td>0</td>\n",
       "      <td>0</td>\n",
       "      <td>0</td>\n",
       "      <td>0</td>\n",
       "      <td>0</td>\n",
       "      <td>1</td>\n",
       "      <td>0</td>\n",
       "      <td>0</td>\n",
       "      <td>1</td>\n",
       "      <td>0</td>\n",
       "      <td>1</td>\n",
       "      <td>0</td>\n",
       "      <td>1</td>\n",
       "      <td>2011</td>\n",
       "      <td>113</td>\n",
       "      <td>1281.396013</td>\n",
       "      <td>34.346292</td>\n",
       "      <td>-93.034921</td>\n",
       "      <td>-19.312220</td>\n",
       "      <td>44.218170</td>\n",
       "    </tr>\n",
       "  </tbody>\n",
       "</table>\n",
       "<p>5 rows × 128 columns</p>\n",
       "</div>"
      ],
      "text/plain": [
       "   CASEID  PREGORDR  WKSGEST  BABYSEX1_Female  BABYSEX1_Male  BABYDOB_M  \\\n",
       "0   50002         1       39                0              1          8   \n",
       "1   50005         1       40                1              0          7   \n",
       "2   50008         3       39                1              0          7   \n",
       "3   50015         4       38                0              1          9   \n",
       "4   50022         1       38                0              1         11   \n",
       "\n",
       "   BABYDOB_Y  HPAGELB  ANYNURSE1_No  ANYNURSE1_Refused  ANYNURSE1_Yes  \\\n",
       "0       2009       36             0                  0              1   \n",
       "1       2005       20             0                  0              1   \n",
       "2       1994       27             0                  0              1   \n",
       "3       2004       28             0                  0              1   \n",
       "4       2005       35             0                  0              1   \n",
       "\n",
       "   CMFSTPRG  ANYUSINT_No  ANYUSINT_Yes  HPWNOLD_Don't know  HPWNOLD_No  \\\n",
       "0      1316            1             0                   0           0   \n",
       "1      1267            0             1                   0           0   \n",
       "2      1088            1             0                   0           1   \n",
       "3      1196            1             0                   0           0   \n",
       "4      1271            0             1                   0           0   \n",
       "\n",
       "   HPWNOLD_Not sure, Don't know  HPWNOLD_Refused  HPWNOLD_Yes  AGEPREG  \\\n",
       "0                             0                0            1    32.83   \n",
       "1                             0                0            1    22.16   \n",
       "2                             0                0            0    25.08   \n",
       "3                             0                0            1    25.16   \n",
       "4                             0                0            1    33.16   \n",
       "\n",
       "   FMAROUT5_NEVER MARRIED  FMAROUT5_divorced  FMAROUT5_married  \\\n",
       "0                       0                  0                 1   \n",
       "1                       1                  0                 0   \n",
       "2                       1                  0                 0   \n",
       "3                       0                  0                 1   \n",
       "4                       0                  0                 1   \n",
       "\n",
       "   FMAROUT5_separated  FMAROUT5_widowed     ...      LABORFOR_KEEPING HOUSE  \\\n",
       "0                   0                 0     ...                           0   \n",
       "1                   0                 0     ...                           0   \n",
       "2                   0                 0     ...                           1   \n",
       "3                   0                 0     ...                           0   \n",
       "4                   0                 0     ...                           0   \n",
       "\n",
       "   LABORFOR_NOT WORKING BUT LOOKING FOR WORK  LABORFOR_WORKING FULL-TIME  \\\n",
       "0                                          1                           0   \n",
       "1                                          1                           0   \n",
       "2                                          0                           0   \n",
       "3                                          0                           0   \n",
       "4                                          0                           1   \n",
       "\n",
       "   LABORFOR_WORKING PART-TIME  LABORFOR_WORKING-MATERNITY OR FAMILY LEAVE  \\\n",
       "0                           0                                           0   \n",
       "1                           0                                           0   \n",
       "2                           0                                           0   \n",
       "3                           1                                           0   \n",
       "4                           0                                           0   \n",
       "\n",
       "   LABORFOR_WORKING-TEMP ILL/ETC  LABORFOR_other  LABORFOR_school  \\\n",
       "0                              0               0                0   \n",
       "1                              0               0                0   \n",
       "2                              0               0                0   \n",
       "3                              0               0                0   \n",
       "4                              0               0                0   \n",
       "\n",
       "   RELIGION_NO RELIGION  RELIGION_OTHER RELIGIONS  RELIGION_catholic  \\\n",
       "0                     0                         0                  0   \n",
       "1                     0                         0                  1   \n",
       "2                     0                         0                  0   \n",
       "3                     0                         0                  0   \n",
       "4                     0                         0                  1   \n",
       "\n",
       "   RELIGION_protestant  METRO_Not MSA  METRO_Other MSA  \\\n",
       "0                    1              0                0   \n",
       "1                    0              0                0   \n",
       "2                    1              0                0   \n",
       "3                    1              1                0   \n",
       "4                    0              0                1   \n",
       "\n",
       "   METRO_Principal city of MSA  BRNOUT_No  BRNOUT_Yes  QUARTER  INTVWYEAR  \\\n",
       "0                            1          1           0        6       2013   \n",
       "1                            1          1           0        7       2013   \n",
       "2                            1          1           0        5       2012   \n",
       "3                            0          1           0        6       2013   \n",
       "4                            0          1           0        1       2011   \n",
       "\n",
       "   BIRTHWGT            0           1            2            3           4  \n",
       "0       112  1045.090563 -151.222306   -93.575592    65.294351    7.762393  \n",
       "1       146  1264.584188   -0.471838   -76.150700   -13.906694   55.727967  \n",
       "2       112 -9280.254203 -875.691060 -5933.507031  2916.727466  603.871978  \n",
       "3       125  1298.538037   32.085047   -79.159191   -27.861786   84.874972  \n",
       "4       113  1281.396013   34.346292   -93.034921   -19.312220   44.218170  \n",
       "\n",
       "[5 rows x 128 columns]"
      ]
     },
     "execution_count": 15,
     "metadata": {},
     "output_type": "execute_result"
    }
   ],
   "source": [
    "imputed_DF.head()"
   ]
  },
  {
   "cell_type": "markdown",
   "metadata": {},
   "source": [
    "### <span style=\"color:gray\"> Algorithms and Techniques </span>"
   ]
  },
  {
   "cell_type": "markdown",
   "metadata": {},
   "source": [
    "Now that I have everything in one big data frame, I will separate the data frame into features and targets. As described previously, this is a <b>two-stage</b> problem. The <b>first stage</b> will be to estimate the propensity <i>p(x)</i> (Mother's age) given the vector of covariates (excluding the outcome, BIRTHWEIGHT). To estimate the propensity score, I will implement a simple ensemble model with three different regressors: decision tree, random forest, and gradient boosting, all with equal voting share. Even with cross-validation, algorithms like random forest can end up over-fitting, so my ensemble will serve as a check on overfitting. To refine the models further, I will also implement grid search to identify the best parameters for each algorithm.\n",
    "\n",
    "Now that we have <i>p(x)</i>, in the <b>second stage</b> we calculate the conditional expectation of <i>Y<sub>i</sub></i> given <i>T<sub>i</sub></i> and <i>p<sub>i</sub>(x)</i>. \n",
    "\n"
   ]
  },
  {
   "cell_type": "markdown",
   "metadata": {},
   "source": [
    "### <span style=\"color:gray\"> Implementation </span>"
   ]
  },
  {
   "cell_type": "code",
   "execution_count": 16,
   "metadata": {
    "collapsed": false
   },
   "outputs": [],
   "source": [
    "feature_cols = list(imputed_DF.columns[1:]) \n",
    "birthweight=imputed_DF['BIRTHWGT']\n",
    "agepreg = imputed_DF['AGEPREG']\n",
    "\n",
    "y_all = pd.DataFrame(imputed_DF['AGEPREG'])\n",
    "\n",
    "#Drop Birthweight and AGE\n",
    "X_all = imputed_DF[feature_cols]\n",
    "X_all = X_all.drop('BIRTHWGT',1) #Target for stage 2\n",
    "X_all = X_all.drop('AGEPREG',1) #Target for stage 1 \n"
   ]
  },
  {
   "cell_type": "code",
   "execution_count": 67,
   "metadata": {
    "collapsed": false
   },
   "outputs": [
    {
     "name": "stdout",
     "output_type": "stream",
     "text": [
      "Training set: 2350 samples\n",
      "Test set: 785 samples\n"
     ]
    }
   ],
   "source": [
    "from sklearn import cross_validation\n",
    "\n",
    "num_all = new_data.shape[0]  \n",
    "num_train = 2350 # about 75% of the data\n",
    "num_test = num_all - num_train\n",
    "\n",
    "# Note: Shuffle the data or randomly select samples to avoid any bias due to ordering in the dataset\n",
    "\n",
    "X_train,X_test,y_train,y_test=cross_validation.train_test_split(X_all,y_all,test_size=num_test,random_state=0)\n",
    "\n",
    "print \"Training set: {} samples\".format(X_train.shape[0])\n",
    "print \"Test set: {} samples\".format(X_test.shape[0])\n"
   ]
  },
  {
   "cell_type": "code",
   "execution_count": 68,
   "metadata": {
    "collapsed": false
   },
   "outputs": [
    {
     "name": "stdout",
     "output_type": "stream",
     "text": [
      "Successfully performed a metric calculation!\n"
     ]
    }
   ],
   "source": [
    "# Put any import statements you need for this code block here\n",
    "from sklearn import metrics\n",
    "def performance_metric(y_true, y_predict):\n",
    "    \"\"\" Calculates and returns the total error between true and predicted values\n",
    "        based on a performance metric chosen by the student. \"\"\"\n",
    "\n",
    "    error = metrics.mean_squared_error(y_true,y_predict)\n",
    "    return error\n",
    "\n",
    "\n",
    "# Test performance_metric\n",
    "try:\n",
    "    total_error = performance_metric(y_train, y_train)\n",
    "    print \"Successfully performed a metric calculation!\"\n",
    "except:\n",
    "    print \"Something went wrong with performing a metric calculation.\""
   ]
  },
  {
   "cell_type": "code",
   "execution_count": 19,
   "metadata": {
    "collapsed": false
   },
   "outputs": [
    {
     "name": "stdout",
     "output_type": "stream",
     "text": [
      "Successfully fit a model!\n",
      "-2.95214595376\n",
      "{'max_depth': 10}\n"
     ]
    }
   ],
   "source": [
    "from sklearn import grid_search\n",
    "from sklearn.tree import DecisionTreeRegressor\n",
    "\n",
    "def fit_model(X, y):\n",
    "    \"\"\" Tunes a decision tree regressor model using GridSearchCV on the input data X \n",
    "        and target labels y and returns this optimal model. \"\"\"\n",
    "\n",
    "    # Create a decision tree regressor object\n",
    "    regressor = DecisionTreeRegressor()\n",
    "\n",
    "    # Set up the parameters we wish to tune\n",
    "    parameters = {'max_depth':(1,5,6,7,8,9,10,11,12,15)}\n",
    "\n",
    "    # Make an appropriate scoring function\n",
    "    scoring_function = metrics.make_scorer(metrics.mean_squared_error,greater_is_better=False)\n",
    "\n",
    "    # Make the GridSearchCV object\n",
    "    reg = grid_search.GridSearchCV(regressor,parameters,scoring_function)\n",
    "\n",
    "    # Fit the learner to the dataset to obtain the optimal model with tuned parameters\n",
    "    reg.fit(X_train, y_train)\n",
    "\n",
    "    # Return the optimal model\n",
    "    return reg\n",
    "\n",
    "\n",
    "# Test fit_model\n",
    "try:\n",
    "    reg = fit_model(X_all, y_all)\n",
    "    print \"Successfully fit a model!\"\n",
    "except:\n",
    "    print \"Something went wrong with fitting a model.\"\n",
    "\n",
    "print reg.best_score_\n",
    "print reg.best_params_"
   ]
  },
  {
   "cell_type": "code",
   "execution_count": 71,
   "metadata": {
    "collapsed": false
   },
   "outputs": [
    {
     "name": "stdout",
     "output_type": "stream",
     "text": [
      "0.425850841754\n"
     ]
    }
   ],
   "source": [
    "DTregressor = DecisionTreeRegressor(max_depth=10)\n",
    "DTregressor.fit(X_all, y_all)\n",
    "\n",
    "DTpredictions = DTregressor.predict(X_all)\n",
    "\n",
    "print performance_metric(y_all,DTpredictions)"
   ]
  },
  {
   "cell_type": "code",
   "execution_count": 81,
   "metadata": {
    "collapsed": false
   },
   "outputs": [
    {
     "name": "stdout",
     "output_type": "stream",
     "text": [
      "4.33891027401\n"
     ]
    }
   ],
   "source": [
    "DTregressor0 = DecisionTreeRegressor(max_depth=5)\n",
    "DTregressor0.fit(X_all, y_all)\n",
    "\n",
    "DTpredictions0 = DTregressor0.predict(X_all)\n",
    "\n",
    "print performance_metric(y_all,DTpredictions0)"
   ]
  },
  {
   "cell_type": "code",
   "execution_count": 83,
   "metadata": {
    "collapsed": false
   },
   "outputs": [
    {
     "name": "stdout",
     "output_type": "stream",
     "text": [
      "Successfully fit a model!\n",
      "-1.12118265142\n",
      "{'n_estimators': 150}\n"
     ]
    }
   ],
   "source": [
    "from sklearn import grid_search\n",
    "from sklearn.ensemble import RandomForestRegressor\n",
    "\n",
    "def fit_model(X, y):\n",
    "    \"\"\" Tunes a decision tree regressor model using GridSearchCV on the input data X \n",
    "        and target labels y and returns this optimal model. \"\"\"\n",
    "\n",
    "    # Create a decision tree regressor object\n",
    "    regressor = RandomForestRegressor()\n",
    "    temp = np.ravel(y_train)\n",
    "\n",
    "    # Set up the parameters we wish to tune\n",
    "    parameters = {'n_estimators':(50,100,125,150,175,200)}\n",
    "\n",
    "    # Make an appropriate scoring function\n",
    "    scoring_function = metrics.make_scorer(metrics.mean_squared_error,greater_is_better=False)\n",
    "\n",
    "    # Make the GridSearchCV object\n",
    "    reg = grid_search.GridSearchCV(regressor,parameters,scoring_function)\n",
    "\n",
    "    # Fit the learner to the dataset to obtain the optimal model with tuned parameters\n",
    "    reg.fit(X_train, temp)\n",
    "\n",
    "    # Return the optimal model\n",
    "    return reg\n",
    "\n",
    "\n",
    "# Test fit_model\n",
    "try:\n",
    "    reg = fit_model(X_all, y_all)\n",
    "    print \"Successfully fit a model!\"\n",
    "except:\n",
    "    print \"Something went wrong with fitting a model.\"\n",
    "\n",
    "print reg.best_score_\n",
    "print reg.best_params_\n"
   ]
  },
  {
   "cell_type": "code",
   "execution_count": 84,
   "metadata": {
    "collapsed": false
   },
   "outputs": [
    {
     "name": "stdout",
     "output_type": "stream",
     "text": [
      "[ 32.74553333  21.92813333  24.98726667 ...,  18.7164      30.3934\n",
      "  33.56433333]\n"
     ]
    }
   ],
   "source": [
    "temp = np.ravel(y_all)\n",
    "\n",
    "RFregressor = RandomForestRegressor(n_estimators=150)\n",
    "RFregressor.fit(X_all, temp)\n",
    "\n",
    "RFpredictions = RFregressor.predict(X_all)\n",
    "\n",
    "print RFpredictions"
   ]
  },
  {
   "cell_type": "code",
   "execution_count": 85,
   "metadata": {
    "collapsed": false
   },
   "outputs": [
    {
     "name": "stdout",
     "output_type": "stream",
     "text": [
      "0.120065736201\n"
     ]
    }
   ],
   "source": [
    "print performance_metric(y_all,RFpredictions)"
   ]
  },
  {
   "cell_type": "code",
   "execution_count": 92,
   "metadata": {
    "collapsed": false
   },
   "outputs": [
    {
     "name": "stdout",
     "output_type": "stream",
     "text": [
      "0.132639706463\n"
     ]
    },
    {
     "name": "stderr",
     "output_type": "stream",
     "text": [
      "/Users/royhu/anaconda/lib/python2.7/site-packages/ipykernel/__main__.py:4: DataConversionWarning:\n",
      "\n",
      "A column-vector y was passed when a 1d array was expected. Please change the shape of y to (n_samples,), for example using ravel().\n",
      "\n"
     ]
    }
   ],
   "source": [
    "temp = np.ravel(y_all)\n",
    "\n",
    "RFregressor0 = RandomForestRegressor(n_estimators=50)\n",
    "RFregressor0.fit(X_all, y_all)\n",
    "\n",
    "RFpredictions0 = RFregressor0.predict(X_all)\n",
    "\n",
    "print performance_metric(y_all,RFpredictions0)"
   ]
  },
  {
   "cell_type": "markdown",
   "metadata": {},
   "source": [
    "The Random Forest algorithm also works by splitting on nodes which give the maximum information gain. Below is a plot of which features are most important:"
   ]
  },
  {
   "cell_type": "markdown",
   "metadata": {},
   "source": [
    "Confidence Intervals for random forests. generally good, but it does look like accuracy degrades around extreme values."
   ]
  },
  {
   "cell_type": "code",
   "execution_count": 23,
   "metadata": {
    "collapsed": false
   },
   "outputs": [
    {
     "data": {
      "image/png": "[encoded data removed]",
      "text/plain": [
       "<IPython.core.display.Image object>"
      ]
     },
     "metadata": {},
     "output_type": "display_data"
    }
   ],
   "source": [
    "import forestci as fci\n",
    "from matplotlib import pyplot as plt\n",
    "\n",
    "n_trees = 175\n",
    "temp = np.ravel(y_train)\n",
    "temp2 = np.ravel(y_test)\n",
    "\n",
    "\n",
    "age_forest = RandomForestRegressor(n_estimators=n_trees, random_state=0)\n",
    "age_forest.fit(X_train, temp)\n",
    "age_y_hat = age_forest.predict(X_test)\n",
    "\n",
    "# calculate inbag and unbiased variance\n",
    "age_inbag = fci.calc_inbag(X_train.shape[0], age_forest)\n",
    "age_V_IJ_unbiased = fci.random_forest_error(age_forest, age_inbag,\n",
    "                                            X_train, X_test)\n",
    "\n",
    "\n",
    "# Plot error bars for predicted MPG using unbiased variance. \n",
    "# For some reason matplotlib not working for some reason, so I imported image from PyCharm\n",
    "\n",
    "PATH = \"/Users/royhu/Desktop/Screen Shot 2016-08-29 at 10.37.10 PM.png\"\n",
    "\n",
    "from IPython.display import Image, display; display(Image(filename=PATH))\n",
    "\n",
    "\n"
   ]
  },
  {
   "cell_type": "code",
   "execution_count": 90,
   "metadata": {
    "collapsed": false
   },
   "outputs": [
    {
     "name": "stdout",
     "output_type": "stream",
     "text": [
      "Successfully fit a model!\n",
      "-1.71768745251\n",
      "{'n_estimators': 450}\n"
     ]
    }
   ],
   "source": [
    "from sklearn import grid_search\n",
    "from sklearn.ensemble import GradientBoostingRegressor\n",
    "\n",
    "def fit_model(X, y):\n",
    "    \"\"\" Tunes a decision tree regressor model using GridSearchCV on the input data X \n",
    "        and target labels y and returns this optimal model. \"\"\"\n",
    "\n",
    "    # Create a decision tree regressor object\n",
    "    regressor = GradientBoostingRegressor(learning_rate=0.1, min_samples_split=100,\n",
    "                                                              min_samples_leaf=50,max_depth=8,max_features='sqrt',\n",
    "                                                              subsample=0.8,random_state=0)\n",
    "    temp = np.ravel(y_train)\n",
    "\n",
    "    # Set up the parameters we wish to tune\n",
    "    parameters = {'n_estimators':range(100,500,50)}\n",
    "\n",
    "    # Make an appropriate scoring function\n",
    "    scoring_function = metrics.make_scorer(metrics.mean_squared_error,greater_is_better=False)\n",
    "\n",
    "    # Make the GridSearchCV object\n",
    "    reg = grid_search.GridSearchCV(regressor,parameters,scoring_function)\n",
    "    reg = grid_search.GridSearchCV(regressor,parameters,scoring_function)\n",
    "\n",
    "    # Fit the learner to the dataset to obtain the optimal model with tuned parameters\n",
    "    reg.fit(X_train, temp)\n",
    "\n",
    "    # Return the optimal model\n",
    "    return reg\n",
    "\n",
    "\n",
    "# Test fit_model\n",
    "try:\n",
    "    reg = fit_model(X_all, y_all)\n",
    "    print \"Successfully fit a model!\"\n",
    "except:\n",
    "    print \"Something went wrong with fitting a model.\"\n",
    "\n",
    "print reg.best_score_\n",
    "print reg.best_params_\n"
   ]
  },
  {
   "cell_type": "code",
   "execution_count": 96,
   "metadata": {
    "collapsed": false
   },
   "outputs": [
    {
     "name": "stdout",
     "output_type": "stream",
     "text": [
      "[ 32.62258673  22.20932789  26.18389377 ...,  18.24709912  30.39940492\n",
      "  33.80229944]\n"
     ]
    }
   ],
   "source": [
    "temp = np.ravel(y_all)\n",
    "\n",
    "GBMregressor = GradientBoostingRegressor(n_estimators=450,learning_rate=0.1, min_samples_split=100,\n",
    "                                                              min_samples_leaf=50,max_depth=8,max_features='sqrt',\n",
    "                                                              subsample=0.8,random_state=0)\n",
    "GBMregressor.fit(X_all, temp)\n",
    "\n",
    "GBMpredictions = GBMregressor.predict(X_all)\n",
    "\n",
    "print GBMpredictions"
   ]
  },
  {
   "cell_type": "code",
   "execution_count": 97,
   "metadata": {
    "collapsed": false
   },
   "outputs": [
    {
     "name": "stdout",
     "output_type": "stream",
     "text": [
      "0.147732027033\n"
     ]
    }
   ],
   "source": [
    "print performance_metric(y_all,GBMpredictions)"
   ]
  },
  {
   "cell_type": "code",
   "execution_count": 98,
   "metadata": {
    "collapsed": false
   },
   "outputs": [
    {
     "name": "stdout",
     "output_type": "stream",
     "text": [
      "1.34217296526\n"
     ]
    }
   ],
   "source": [
    "temp = np.ravel(y_all)\n",
    "GBMregressor0 = GradientBoostingRegressor(learning_rate=0.1, min_samples_split=100,\n",
    "                                                              min_samples_leaf=50,max_depth=8,max_features='sqrt',\n",
    "                                                              subsample=0.8,random_state=0)\n",
    "GBMregressor0.fit(X_all, temp)\n",
    "\n",
    "GBMpredictions0 = GBMregressor0.predict(X_all)\n",
    "\n",
    "print performance_metric(y_all,GBMpredictions0)"
   ]
  },
  {
   "cell_type": "markdown",
   "metadata": {},
   "source": [
    "We can now create the Inverse Propensity Treatment score. We first check the normally distributed error terms (for IPTW):"
   ]
  },
  {
   "cell_type": "code",
   "execution_count": 26,
   "metadata": {
    "collapsed": false
   },
   "outputs": [
    {
     "data": {
      "text/html": [
       "<iframe id=\"igraph\" scrolling=\"no\" style=\"border:none;\" seamless=\"seamless\" src=\"https://plot.ly/~royhu91/131.embed\" height=\"525px\" width=\"100%\"></iframe>"
      ],
      "text/plain": [
       "<plotly.tools.PlotlyDisplay object>"
      ]
     },
     "execution_count": 26,
     "metadata": {},
     "output_type": "execute_result"
    }
   ],
   "source": [
    "a = pd.DataFrame((DTpredictions+RFpredictions+GBMpredictions)/3)\n",
    "b = y_all\n",
    "\n",
    "resid = b['AGEPREG'] - a[0]\n",
    "\n",
    "data = [graph_objs.Histogram(x=resid)]\n",
    "py.iplot(data)\n"
   ]
  },
  {
   "cell_type": "markdown",
   "metadata": {
    "collapsed": false
   },
   "source": [
    "Run a linear regression of age without intercepts (numerator of IPTW):"
   ]
  },
  {
   "cell_type": "code",
   "execution_count": 27,
   "metadata": {
    "collapsed": false
   },
   "outputs": [],
   "source": [
    "e = {'birth':birthweight, 'agepreg':agepreg,'resid':resid,'intercept': [1]*3135}\n",
    "finalDF1 = pd.DataFrame(e)\n",
    "\n"
   ]
  },
  {
   "cell_type": "code",
   "execution_count": 28,
   "metadata": {
    "collapsed": false
   },
   "outputs": [],
   "source": [
    "import statsmodels.formula.api as sm\n",
    "\n",
    "result = sm.ols(formula=\"agepreg ~ 1\", data=finalDF1).fit()\n"
   ]
  },
  {
   "cell_type": "code",
   "execution_count": 29,
   "metadata": {
    "collapsed": false
   },
   "outputs": [],
   "source": [
    "from scipy.stats import norm\n",
    "\n",
    "a= finalDF1['agepreg']-result.predict()\n",
    "b = np.std(finalDF1['agepreg']-result.predict())\n",
    "psNum=norm.pdf(a/b)\n",
    "\n",
    "c = finalDF1['resid']\n",
    "d = np.std(resid)\n",
    "psDen=norm.pdf(c/d,0,1)\n",
    "\n",
    "\n",
    "weights=psNum/psDen\n"
   ]
  },
  {
   "cell_type": "markdown",
   "metadata": {},
   "source": [
    "I then create the variable for age squared, and then remove the observations for which the weights are too extreme. Extreme weights are harmful to the analysis because they increase the variance of the causal estimates."
   ]
  },
  {
   "cell_type": "code",
   "execution_count": 30,
   "metadata": {
    "collapsed": false
   },
   "outputs": [],
   "source": [
    "finalDF1['agesq'] = finalDF1['agepreg']**2\n",
    "finalDF1['weight'] = weights\n",
    "finalDF1=finalDF1[finalDF1['weight'] < 2]\n"
   ]
  },
  {
   "cell_type": "markdown",
   "metadata": {},
   "source": [
    "Plot of the weights (no extreme values):"
   ]
  },
  {
   "cell_type": "code",
   "execution_count": 31,
   "metadata": {
    "collapsed": false
   },
   "outputs": [
    {
     "data": {
      "text/html": [
       "<iframe id=\"igraph\" scrolling=\"no\" style=\"border:none;\" seamless=\"seamless\" src=\"https://plot.ly/~royhu91/133.embed\" height=\"525px\" width=\"100%\"></iframe>"
      ],
      "text/plain": [
       "<plotly.tools.PlotlyDisplay object>"
      ]
     },
     "execution_count": 31,
     "metadata": {},
     "output_type": "execute_result"
    }
   ],
   "source": [
    "data = [graph_objs.Histogram(x=finalDF1['weight'])]\n",
    "py.iplot(data)"
   ]
  },
  {
   "cell_type": "markdown",
   "metadata": {},
   "source": [
    "Weighted Regression with IPTWs:"
   ]
  },
  {
   "cell_type": "code",
   "execution_count": 32,
   "metadata": {
    "collapsed": false
   },
   "outputs": [
    {
     "name": "stdout",
     "output_type": "stream",
     "text": [
      "                            WLS Regression Results                            \n",
      "==============================================================================\n",
      "Dep. Variable:                  birth   R-squared:                       0.005\n",
      "Model:                            WLS   Adj. R-squared:                  0.004\n",
      "Method:                 Least Squares   F-statistic:                     7.600\n",
      "Date:                Fri, 02 Sep 2016   Prob (F-statistic):           0.000511\n",
      "Time:                        11:33:41   Log-Likelihood:                -14567.\n",
      "No. Observations:                2866   AIC:                         2.914e+04\n",
      "Df Residuals:                    2863   BIC:                         2.916e+04\n",
      "Df Model:                           2                                         \n",
      "Covariance Type:                  HC3                                         \n",
      "==============================================================================\n",
      "                 coef    std err          z      P>|z|      [95.0% Conf. Int.]\n",
      "------------------------------------------------------------------------------\n",
      "agepreg        1.0219      1.194      0.856      0.392        -1.317     3.361\n",
      "intercept     95.7882     15.629      6.129      0.000        65.156   126.421\n",
      "agesq         -0.0078      0.022     -0.348      0.728        -0.052     0.036\n",
      "==============================================================================\n",
      "Omnibus:                     3501.214   Durbin-Watson:                   1.999\n",
      "Prob(Omnibus):                  0.000   Jarque-Bera (JB):           660985.722\n",
      "Skew:                           6.352   Prob(JB):                         0.00\n",
      "Kurtosis:                      76.306   Cond. No.                     2.30e+04\n",
      "==============================================================================\n",
      "\n",
      "Warnings:\n",
      "[1] Standard Errors are heteroscedasticity robust (HC3)\n",
      "[2] The condition number is large, 2.3e+04. This might indicate that there are\n",
      "strong multicollinearity or other numerical problems.\n"
     ]
    }
   ],
   "source": [
    "\n",
    "mod_wls = sm.WLS(finalDF1['birth'], finalDF1.iloc[:,[0,2,4]], weights=finalDF1['weight'])\n",
    "res_wls = mod_wls.fit(cov_type='HC3')\n",
    "\n",
    "print res_wls.summary()\n"
   ]
  },
  {
   "cell_type": "markdown",
   "metadata": {},
   "source": [
    "### <span style=\"color:gray\"> Sensitivity Analysis </span>"
   ]
  },
  {
   "cell_type": "code",
   "execution_count": 71,
   "metadata": {
    "collapsed": false
   },
   "outputs": [
    {
     "name": "stdout",
     "output_type": "stream",
     "text": [
      "                            WLS Regression Results                            \n",
      "==============================================================================\n",
      "Dep. Variable:                  birth   R-squared:                       0.005\n",
      "Model:                            WLS   Adj. R-squared:                  0.004\n",
      "Method:                 Least Squares   F-statistic:                     5.346\n",
      "Date:                Thu, 01 Sep 2016   Prob (F-statistic):            0.00483\n",
      "Time:                        14:38:25   Log-Likelihood:                -10339.\n",
      "No. Observations:                2000   AIC:                         2.068e+04\n",
      "Df Residuals:                    1997   BIC:                         2.070e+04\n",
      "Df Model:                           2                                         \n",
      "Covariance Type:            nonrobust                                         \n",
      "==============================================================================\n",
      "                 coef    std err          t      P>|t|      [95.0% Conf. Int.]\n",
      "------------------------------------------------------------------------------\n",
      "agepreg        1.6660      1.994      0.836      0.403        -2.244     5.576\n",
      "intercept     87.0757     26.507      3.285      0.001        35.091   139.060\n",
      "agesq         -0.0186      0.037     -0.502      0.616        -0.091     0.054\n",
      "==============================================================================\n",
      "Omnibus:                     2501.617   Durbin-Watson:                   2.028\n",
      "Prob(Omnibus):                  0.000   Jarque-Bera (JB):           446859.837\n",
      "Skew:                           6.589   Prob(JB):                         0.00\n",
      "Kurtosis:                      75.032   Cond. No.                     2.28e+04\n",
      "==============================================================================\n",
      "\n",
      "Warnings:\n",
      "[1] Standard Errors assume that the covariance matrix of the errors is correctly specified.\n",
      "[2] The condition number is large, 2.28e+04. This might indicate that there are\n",
      "strong multicollinearity or other numerical problems.\n"
     ]
    }
   ],
   "source": [
    "sampleDF = finalDF1.sample(2000)\n",
    "\n",
    "sample_mod_wls = sm.WLS(sampleDF['birth'], sampleDF.iloc[:,[0,2,4]], weights=sampleDF['weight'])\n",
    "sample_res_wls = sample_mod_wls.fit()\n",
    "\n",
    "print sample_res_wls.summary()"
   ]
  },
  {
   "cell_type": "markdown",
   "metadata": {},
   "source": [
    "### <span style=\"color:gray\"> Improvement and Extension </span>"
   ]
  },
  {
   "cell_type": "markdown",
   "metadata": {},
   "source": [
    "I personally found this project to be pretty rewarding because I was able to combine two of my interests, machine learning and econometrics, into one analytics project. In the pre-processing step, I was able to implement both an unsupervised machine learning technique (PCA) to massively reduce the dimensionality of the Survey Response data set into useable components, capturing over 97% of the variance in just a few principal components. Then in the first stage, I was also able to implement and refine a supervised machine learning techniques (decision tree, random forests, gradient boosting) to make fairly accurate ensemble predictions for the mother's age.\n",
    "That said, there is definitely room for extension. One challenge that was just inherent in the data set was the missing value problem. I did feel like I potentially may have dropped columns that were informative; there likely was a reason why someone might not be able fill in a response in the Survey Data set, or provide an answer to the interview question in the Demographics data set. Unfortunately, despite some significant time spent looking into different imputation techniques, I'm not sure there would have been a way to impute without assuming “missingness at random.”\n",
    "Another interesting extension could be more of the kinds of work that Wager is doing with bootstrapping asymptotic for machine learning algorithms. For example, I would have liked to have standard errors for gradient boosting, but there does not appear to be any published research for something like that at the moment."
   ]
  }
 ],
 "metadata": {
  "kernelspec": {
   "display_name": "Python 2",
   "language": "python",
   "name": "python2"
  },
  "language_info": {
   "codemirror_mode": {
    "name": "ipython",
    "version": 2
   },
   "file_extension": ".py",
   "mimetype": "text/x-python",
   "name": "python",
   "nbconvert_exporter": "python",
   "pygments_lexer": "ipython2",
   "version": "2.7.12"
  }
 },
 "nbformat": 4,
 "nbformat_minor": 0
}
